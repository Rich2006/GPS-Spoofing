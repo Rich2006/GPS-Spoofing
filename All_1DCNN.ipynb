{
  "nbformat": 4,
  "nbformat_minor": 0,
  "metadata": {
    "colab": {
      "name": "Copy of All 1DCNN.ipynb",
      "provenance": [],
      "collapsed_sections": []
    },
    "kernelspec": {
      "name": "python3",
      "display_name": "Python 3"
    },
    "language_info": {
      "name": "python"
    }
  },
  "cells": [
    {
      "cell_type": "code",
      "metadata": {
        "id": "tm0pDqNjTTjd"
      },
      "source": [
        "from six.moves import cPickle as pickle\n",
        "import keras\n",
        "from keras.models import Sequential\n",
        "from keras.layers import Conv1D, MaxPooling1D, Flatten, Dense, Dropout\n",
        "from keras.callbacks import ModelCheckpoint"
      ],
      "execution_count": null,
      "outputs": []
    },
    {
      "cell_type": "code",
      "metadata": {
        "colab": {
          "base_uri": "https://localhost:8080/"
        },
        "id": "JqIpK8_4ZJNU",
        "outputId": "090492f2-d358-4da4-a88e-aa006f048f28"
      },
      "source": [
        "from google.colab import drive\n",
        "drive.mount('/content/drive')"
      ],
      "execution_count": null,
      "outputs": [
        {
          "output_type": "stream",
          "name": "stdout",
          "text": [
            "Mounted at /content/drive\n"
          ]
        }
      ]
    },
    {
      "cell_type": "code",
      "metadata": {
        "id": "EaNshQzMcI8J"
      },
      "source": [
        "data_dir = '/content/drive/My Drive/Colab Notebooks/HEX New folder'"
      ],
      "execution_count": null,
      "outputs": []
    },
    {
      "cell_type": "code",
      "metadata": {
        "colab": {
          "base_uri": "https://localhost:8080/"
        },
        "id": "gzEaINfQbnUa",
        "outputId": "bfc339c3-f391-4186-9915-7c838bbd6391"
      },
      "source": [
        "import glob\n",
        "import os\n",
        "import numpy as np\n",
        "import pandas as pd\n",
        "import seaborn as sns\n",
        "from scipy import stats\n",
        "\n",
        "import matplotlib.pyplot as plt\n",
        "\n",
        "import statsmodels.api as sm\n",
        "from sklearn.cluster import KMeans\n",
        "from sklearn.preprocessing import MinMaxScaler\n",
        "from sklearn.preprocessing import StandardScaler\n",
        "from sklearn.decomposition import PCA\n",
        "\n",
        "from sklearn.linear_model import LinearRegression\n",
        "from sklearn.model_selection import train_test_split\n",
        "from sklearn.metrics import mean_squared_error, r2_score, mean_absolute_error\n",
        "\n",
        "%matplotlib inline\n",
        "\n",
        "\n",
        "\n",
        "# normalize inputs from 0-255 to 0-1\n",
        "import keras\n",
        "import tensorflow as tf\n",
        "from keras.models import Sequential\n",
        "from keras.layers import Dense\n",
        "from keras.layers import LSTM\n",
        "from keras.layers import Dropout\n",
        "#from keras.utils import to_categorical\n",
        "from tensorflow.keras.utils import to_categorical\n",
        "from sklearn.preprocessing import LabelEncoder\n",
        "\n",
        "import pandas.util.testing as tm"
      ],
      "execution_count": null,
      "outputs": [
        {
          "output_type": "stream",
          "name": "stderr",
          "text": [
            "/usr/local/lib/python3.7/dist-packages/statsmodels/tools/_testing.py:19: FutureWarning: pandas.util.testing is deprecated. Use the functions in the public API at pandas.testing instead.\n",
            "  import pandas.util.testing as tm\n"
          ]
        }
      ]
    },
    {
      "cell_type": "code",
      "metadata": {
        "id": "QxJ3Nwnvzqsq"
      },
      "source": [
        "def ReshapeY(Y_train,n):\n",
        "    Y = list()\n",
        "    for x in Y_train:\n",
        "        Y.append(find_1(x, n))\n",
        "\n",
        "    Y = np.array(Y)\n",
        "    return Y\n",
        "    print(Y.shape)\n",
        "    \n",
        "    \n",
        "# look for 1 ( spoof) in each   \n",
        "def find_1(x, n):\n",
        "    if 1 in x:\n",
        "        res = 1\n",
        "    else: \n",
        "        res = 0\n",
        "    return res    \n",
        "\n",
        "\n",
        "\n",
        "\n",
        "    \n",
        "def LOAD_data(path ):\n",
        "    filenames = glob.glob(path + \"/*.csv\")\n",
        "\n",
        "    dfs = []\n",
        "    for filename in filenames:\n",
        "        df=pd.read_csv(filename)\n",
        "        if 'le0.csv'== filename[-7:]:\n",
        "            df['attack'] = 0\n",
        "            df = df[190:]\n",
        "\n",
        "        else:\n",
        "            df['attack'] = 1\n",
        "        dfa = df['attack']\n",
        "        df = df[14:]\n",
        "        df = df.iloc[:-180]\n",
        "        df = df.select_dtypes(exclude=['object','bool'])         #remove nan\n",
        "        df = df.loc[:, (df != 0).any(axis=0)]                    #remove zeros\n",
        "        df = df.drop(df.std()[(df.std() == 0)].index, axis=1)   #remove equals\n",
        "        df=((df-df.min())/(df.max()-df.min()))*1\n",
        "\n",
        "        df['attack'] = dfa\n",
        "        dfs.append(df)\n",
        "\n",
        "\n",
        "    # Concatenate all data into one DataFrame\n",
        "    df = pd.concat(dfs, ignore_index=True)\n",
        "        #df.head()\n",
        "        \n",
        "    \n",
        "    # Concatenate all data into one DataFrame\n",
        "    df = pd.concat(dfs, ignore_index=True)\n",
        "    #df.head()\n",
        "\n",
        "    df = df.select_dtypes(exclude=['object','bool'])         #remove nan\n",
        "    df = df.loc[:, (df != 0).any(axis=0)]                    #remove zeros\n",
        "    df = df.drop(df.std()[(df.std() == 0)].index, axis=1)   #remove equals\n",
        "\n",
        "    sf = df[['roll', 'pitch', 'heading', 'rollRate', 'pitchRate', 'yawRate',\n",
        "       'groundSpeed',  'altitudeRelative', \n",
        "       'throttlePct', 'estimatorStatus.horizPosRatio',\n",
        "       'estimatorStatus.vertPosRatio',\n",
        "       'estimatorStatus.horizPosAccuracy','gps.courseOverGround']]\n",
        "    scaled_data = scale(sf)\n",
        "    \n",
        "\n",
        "    pca = PCA(n_components = 9)\n",
        "    pca.fit(scaled_data)\n",
        "    pca_data = pca.transform(scaled_data)\n",
        "\n",
        "    pca_data = pd.DataFrame(pca_data)\n",
        "\n",
        "    df_sf = pd.concat([pca_data, df[['attack']]], axis=1)\n",
        "\n",
        "    sf_t =df_sf\n",
        "\n",
        "    data_dim = sf_t.shape[1] -1\n",
        "    timesteps = 60\n",
        "    num_classes = 2\n",
        "\n",
        "\n",
        "    X = sf_t.drop(['attack'], axis =1).values\n",
        "    Y = sf_t[['attack']].values\n",
        "\n",
        "\n",
        "    ll = sf_t.shape[0] // timesteps\n",
        "    ll\n",
        "\n",
        "    x = np.array(X[0: (timesteps*ll)])\n",
        "    y = np.array(Y[0: (timesteps*ll)])\n",
        "    x.shape\n",
        "\n",
        "    X_t = np.reshape(x,(-1,timesteps,data_dim))\n",
        "    Y_t = np.reshape(y,(-1,timesteps,1))\n",
        "\n",
        "\n",
        "    Y_t = ReshapeY(Y_t,timesteps )\n",
        "    print(X_t.shape)\n",
        "    print(Y_t.shape)\n",
        "\n",
        "    # lb_make = LabelEncoder()\n",
        "    # Y_t = lb_make.fit_transform(Y_t)\n",
        "    # Y_t = tf.keras.utils.to_categorical(Y_t)\n",
        "    # X_t = X_t.astype(\"float32\")\n",
        "    # Y_t = Y_t.astype(\"float32\")\n",
        "    # X_t /= 255\n",
        "    \n",
        "    return (X_t,Y_t)\n",
        "\n",
        "\n",
        "def put_together(combined_array, asd):\n",
        "    combined_array = np.concatenate((combined_array, asd), axis=0)\n",
        "    #combined_array = np.delete(combined_array, 0, axis=0)\n",
        "    return combined_array\n",
        "\n",
        "\n",
        "def Delete_first(combined_array):\n",
        "    combined_array = np.delete(combined_array, 0, axis=0)\n",
        "    return combined_array"
      ],
      "execution_count": null,
      "outputs": []
    },
    {
      "cell_type": "code",
      "metadata": {
        "id": "zq1jJsoLz1-w"
      },
      "source": [
        "import os\n",
        " \n",
        "paths = []    \n",
        "# rootdir = r'C:\\Users\\lenovo\\OneDrive - aggies.ncat.edu\\Desktop\\new correct files\\HEX New folder'\n",
        "for file in os.listdir(data_dir):\n",
        "    d = os.path.join(data_dir, file)\n",
        "    if os.path.isdir(d):\n",
        "        paths.append(d)\n",
        "\n",
        "\n"
      ],
      "execution_count": null,
      "outputs": []
    },
    {
      "cell_type": "code",
      "metadata": {
        "colab": {
          "base_uri": "https://localhost:8080/"
        },
        "id": "RldO0ugO0WbZ",
        "outputId": "de647ffe-5014-414e-fa8d-721f09976eba"
      },
      "source": [
        "paths"
      ],
      "execution_count": null,
      "outputs": [
        {
          "output_type": "execute_result",
          "data": {
            "text/plain": [
              "['/content/drive/My Drive/Colab Notebooks/HEX New folder/ST NPLANE New folder',\n",
              " '/content/drive/My Drive/Colab Notebooks/HEX New folder/QUAD New folder',\n",
              " '/content/drive/My Drive/Colab Notebooks/HEX New folder/TAIL VTOL New folder',\n",
              " '/content/drive/My Drive/Colab Notebooks/HEX New folder/h480']"
            ]
          },
          "metadata": {},
          "execution_count": 6
        }
      ]
    },
    {
      "cell_type": "code",
      "metadata": {
        "colab": {
          "base_uri": "https://localhost:8080/"
        },
        "id": "-_iMN_KM0Txj",
        "outputId": "ad528aa5-ab0b-4a2b-f9a4-b466f045bb10"
      },
      "source": [
        "from sklearn.preprocessing import scale\n",
        "\n",
        "i = 0\n",
        "for path in paths:\n",
        "    (Xa,Ya) = LOAD_data(path)\n",
        "    if  (i == 0):\n",
        "        X_ = Xa  \n",
        "        Y_ = Ya\n",
        "        i = i + 1 \n",
        "    else:\n",
        "        X_ = np.concatenate((X_, Xa), axis=0)\n",
        "        Y_ = np.concatenate((Y_, Ya), axis=0)"
      ],
      "execution_count": null,
      "outputs": [
        {
          "output_type": "stream",
          "name": "stdout",
          "text": [
            "(461, 60, 9)\n",
            "(461,)\n"
          ]
        },
        {
          "output_type": "stream",
          "name": "stderr",
          "text": [
            "/usr/local/lib/python3.7/dist-packages/IPython/core/interactiveshell.py:2822: DtypeWarning: Columns (15,16) have mixed types.Specify dtype option on import or set low_memory=False.\n",
            "  if self.run_code(code, result):\n",
            "/usr/local/lib/python3.7/dist-packages/IPython/core/interactiveshell.py:2822: DtypeWarning: Columns (15,16) have mixed types.Specify dtype option on import or set low_memory=False.\n",
            "  if self.run_code(code, result):\n"
          ]
        },
        {
          "output_type": "stream",
          "name": "stdout",
          "text": [
            "(2325, 60, 9)\n",
            "(2325,)\n",
            "(455, 60, 9)\n",
            "(455,)\n",
            "(603, 60, 9)\n",
            "(603,)\n"
          ]
        }
      ]
    },
    {
      "cell_type": "code",
      "metadata": {
        "colab": {
          "base_uri": "https://localhost:8080/"
        },
        "id": "eJW3rAuU4ecR",
        "outputId": "c5491a2e-11b4-4564-9cb3-ff9b2e9f4c64"
      },
      "source": [
        "print(X_.shape)\n",
        "print(Y_.shape)"
      ],
      "execution_count": null,
      "outputs": [
        {
          "output_type": "stream",
          "name": "stdout",
          "text": [
            "(3844, 60, 9)\n",
            "(3844,)\n"
          ]
        }
      ]
    },
    {
      "cell_type": "code",
      "metadata": {
        "id": "w6hW3b0b0BMz"
      },
      "source": [
        ""
      ],
      "execution_count": null,
      "outputs": []
    },
    {
      "cell_type": "code",
      "metadata": {
        "id": "ORm_I1nuwJgk"
      },
      "source": [
        "X_train_D,X_test_D, Y_train_D, Y_test_D = train_test_split(X_, Y_, test_size=0.10, random_state=1)"
      ],
      "execution_count": null,
      "outputs": []
    },
    {
      "cell_type": "code",
      "metadata": {
        "colab": {
          "base_uri": "https://localhost:8080/"
        },
        "id": "4la6Vixrxejc",
        "outputId": "b60cd0ee-d1eb-4dcf-f2dc-f02814e0eba6"
      },
      "source": [
        "print(Y_test_D.shape, ':y test')\n",
        "print(Y_train_D.shape, ':y train')"
      ],
      "execution_count": null,
      "outputs": [
        {
          "output_type": "stream",
          "name": "stdout",
          "text": [
            "(846,) :y test\n",
            "(2998,) :y train\n"
          ]
        }
      ]
    },
    {
      "cell_type": "code",
      "metadata": {
        "id": "XGe4TbQIqEOX"
      },
      "source": [
        "def ReshapeY(Y_train,n):\n",
        "    Y = list()\n",
        "    for x in Y_train:\n",
        "        Y.append(find_1(x, n))\n",
        "\n",
        "    Y = np.array(Y)\n",
        "    return Y\n",
        "    print(Y.shape)\n",
        "    \n",
        "    \n",
        "# look for 1 ( spoof) in each   \n",
        "def find_1(x, n):\n",
        "    if 1 in x:\n",
        "        res = 1\n",
        "    else: \n",
        "        res = 0\n",
        "    return res"
      ],
      "execution_count": null,
      "outputs": []
    },
    {
      "cell_type": "code",
      "metadata": {
        "id": "UsZj6sP5pnKN"
      },
      "source": [
        "# normalize inputs from 0-255 to 0-1\n",
        "import keras\n",
        "import tensorflow as tf\n",
        "from keras.models import Sequential\n",
        "from keras.layers import Dense\n",
        "from keras.layers import LSTM\n",
        "from keras.layers import Dropout\n",
        "#from keras.utils import to_categorical\n",
        "from tensorflow.keras.utils import to_categorical\n",
        "from sklearn.preprocessing import LabelEncoder\n",
        "\n",
        "# one-hot encode the labels\n",
        "num_classes = 2\n",
        "Y_train_D_hot = tf.keras.utils.to_categorical(Y_train_D-1, num_classes)\n",
        "Y_test_D_hot = tf.keras.utils.to_categorical(Y_test_D-1, num_classes)\n",
        "\n",
        "# # break training set into training and validation sets\n",
        "# (X_train, X_valid) = X_train_D[300:], X_train_D[:300]\n",
        "# (Y_train, Y_valid) = Y_train_D_hot[300:], Y_train_D_hot[:300]\n",
        "X_train,X_valid, Y_train, Y_valid = train_test_split(X_train_D, Y_train_D_hot, test_size=0.1, random_state=1)\n",
        "\n",
        "# X_train = X_train_D\n",
        "# Y_train = Y_train_D_hot\n",
        "X_test = X_test_D\n",
        "Y_test = Y_test_D_hot"
      ],
      "execution_count": null,
      "outputs": []
    },
    {
      "cell_type": "code",
      "metadata": {
        "colab": {
          "base_uri": "https://localhost:8080/"
        },
        "id": "x8PMypQqr0Ir",
        "outputId": "c505ded9-502a-4f8b-ad21-669c145f88be"
      },
      "source": [
        "Y_valid.shape"
      ],
      "execution_count": null,
      "outputs": [
        {
          "output_type": "execute_result",
          "data": {
            "text/plain": [
              "(346, 2)"
            ]
          },
          "metadata": {},
          "execution_count": 12
        }
      ]
    },
    {
      "cell_type": "code",
      "metadata": {
        "id": "HVDDZrIyPaXd"
      },
      "source": [
        "# X_train = np.transpose(X_train, (1, 0, 2))\n",
        "# X_test = np.transpose(X_test, (1, 0, 2))\n",
        "# X_valid = np.transpose(X_valid, (1, 0, 2))\n",
        "\n",
        "# Y_train = np.transpose(Y_train, (1, 0, 2))\n",
        "# Y_test = np.transpose(Y_test, (1, 0, 2))\n",
        "# Y_valid = np.transpose(Y_valid, (1, 0, 2))"
      ],
      "execution_count": null,
      "outputs": []
    },
    {
      "cell_type": "code",
      "metadata": {
        "colab": {
          "base_uri": "https://localhost:8080/"
        },
        "id": "NBO1CipiRrUp",
        "outputId": "8af9c11b-08ce-40f0-bb38-c84b47ef2e55"
      },
      "source": [
        "X_train.shape"
      ],
      "execution_count": null,
      "outputs": [
        {
          "output_type": "execute_result",
          "data": {
            "text/plain": [
              "(3113, 60, 9)"
            ]
          },
          "metadata": {},
          "execution_count": 13
        }
      ]
    },
    {
      "cell_type": "code",
      "metadata": {
        "colab": {
          "base_uri": "https://localhost:8080/"
        },
        "id": "vSg6Fzjor0Dg",
        "outputId": "99082f85-a463-40cc-9c37-9c45ef135759"
      },
      "source": [
        "CNNch = 9\n",
        "\n",
        "# epch\n",
        "ne = 100\n",
        "\n",
        "modelC2 = Sequential()\n",
        "#1\n",
        "modelC2.add(Conv1D(filters=16, kernel_size=64,strides = 16, padding='same', activation='relu', \n",
        "                        input_shape=(60, CNNch)))\n",
        "modelC2.add(MaxPooling1D(pool_size=1))\n",
        "#2\n",
        "modelC2.add(Conv1D(filters=16, kernel_size=3, strides = 1, padding='same', activation='relu'))\n",
        "modelC2.add(MaxPooling1D(pool_size=1))\n",
        "#3\n",
        "modelC2.add(Conv1D(filters=32, kernel_size=3, strides = 1, padding='same', activation='relu'))\n",
        "modelC2.add(MaxPooling1D(pool_size=1))\n",
        "modelC2.add(Dropout(0.2))\n",
        "#4\n",
        "modelC2.add(Conv1D(filters=32, kernel_size=3, strides = 1, padding='same', activation='relu'))\n",
        "modelC2.add(MaxPooling1D(pool_size=1))\n",
        "modelC2.add(Dropout(0.2))\n",
        "#5\n",
        "modelC2.add(Conv1D(filters=32, kernel_size=3, strides = 1, padding='same', activation='relu'))\n",
        "#paper no padding?, Yes, to make 5th layer output 6 width and 3 after pooling\n",
        "#-> same seems to perform little better because of more parameter? \n",
        "# little diffrernt from the paper but keep it as padding = 'same'\n",
        "modelC2.add(MaxPooling1D(pool_size=1))  \n",
        "\n",
        "modelC2.add(Flatten())\n",
        "modelC2.add(Dense(10, activation='relu'))\n",
        "modelC2.add(Dropout(0.2))\n",
        "modelC2.add(Dense(2, activation='softmax'))\n",
        "\n",
        "modelC2.summary()\n",
        "\n",
        "\n",
        "# compile the model\n",
        "modelC2.compile(loss='categorical_crossentropy', optimizer='rmsprop', \n",
        "                  metrics=['accuracy'])\n",
        "\n",
        "# train the model\n",
        "checkpointer = ModelCheckpoint(filepath='CNNC2.weights.best.hdf5', verbose=1, \n",
        "                               save_best_only=True)\n",
        "\n",
        "hist = modelC2.fit(X_train[:,:,0:CNNch], Y_train, batch_size=32, epochs=ne,\n",
        "          validation_data=(X_valid[:,:,0:CNNch], Y_valid), callbacks=[checkpointer], \n",
        "          verbose=1, shuffle=True)\n",
        "\n",
        "# load the weights that yielded the best validation accuracy\n",
        "modelC2.load_weights('CNNC2.weights.best.hdf5')\n",
        "\n",
        "# evaluate and print test accuracy\n",
        "score = modelC2.evaluate(X_test[:,:,0:CNNch], Y_test, verbose=0)\n",
        "print('\\n', 'CNN Test accuracy:', score[1])\n",
        "\n",
        "score = modelC2.evaluate(X_train[:,:,0:CNNch], Y_train, verbose=0)\n",
        "print('\\n', 'CNN train accuracy:', score[1])\n",
        "\n",
        "score = modelC2.evaluate(X_valid[:,:,0:CNNch], Y_valid, verbose=0)\n",
        "print('\\n', 'CNN validation accuracy:', score[1])"
      ],
      "execution_count": null,
      "outputs": [
        {
          "output_type": "stream",
          "name": "stdout",
          "text": [
            "Model: \"sequential_1\"\n",
            "_________________________________________________________________\n",
            "Layer (type)                 Output Shape              Param #   \n",
            "=================================================================\n",
            "conv1d (Conv1D)              (None, 4, 16)             9232      \n",
            "_________________________________________________________________\n",
            "max_pooling1d (MaxPooling1D) (None, 4, 16)             0         \n",
            "_________________________________________________________________\n",
            "conv1d_1 (Conv1D)            (None, 4, 16)             784       \n",
            "_________________________________________________________________\n",
            "max_pooling1d_1 (MaxPooling1 (None, 4, 16)             0         \n",
            "_________________________________________________________________\n",
            "conv1d_2 (Conv1D)            (None, 4, 32)             1568      \n",
            "_________________________________________________________________\n",
            "max_pooling1d_2 (MaxPooling1 (None, 4, 32)             0         \n",
            "_________________________________________________________________\n",
            "dropout (Dropout)            (None, 4, 32)             0         \n",
            "_________________________________________________________________\n",
            "conv1d_3 (Conv1D)            (None, 4, 32)             3104      \n",
            "_________________________________________________________________\n",
            "max_pooling1d_3 (MaxPooling1 (None, 4, 32)             0         \n",
            "_________________________________________________________________\n",
            "dropout_1 (Dropout)          (None, 4, 32)             0         \n",
            "_________________________________________________________________\n",
            "conv1d_4 (Conv1D)            (None, 4, 32)             3104      \n",
            "_________________________________________________________________\n",
            "max_pooling1d_4 (MaxPooling1 (None, 4, 32)             0         \n",
            "_________________________________________________________________\n",
            "flatten (Flatten)            (None, 128)               0         \n",
            "_________________________________________________________________\n",
            "dense (Dense)                (None, 10)                1290      \n",
            "_________________________________________________________________\n",
            "dropout_2 (Dropout)          (None, 10)                0         \n",
            "_________________________________________________________________\n",
            "dense_1 (Dense)              (None, 2)                 22        \n",
            "=================================================================\n",
            "Total params: 19,104\n",
            "Trainable params: 19,104\n",
            "Non-trainable params: 0\n",
            "_________________________________________________________________\n",
            "Epoch 1/100\n",
            "98/98 [==============================] - 3s 9ms/step - loss: 0.2846 - accuracy: 0.8783 - val_loss: 0.1601 - val_accuracy: 0.9393\n",
            "\n",
            "Epoch 00001: val_loss improved from inf to 0.16008, saving model to CNNC2.weights.best.hdf5\n",
            "Epoch 2/100\n",
            "98/98 [==============================] - 1s 5ms/step - loss: 0.1460 - accuracy: 0.9512 - val_loss: 0.1124 - val_accuracy: 0.9480\n",
            "\n",
            "Epoch 00002: val_loss improved from 0.16008 to 0.11238, saving model to CNNC2.weights.best.hdf5\n",
            "Epoch 3/100\n",
            "98/98 [==============================] - 1s 5ms/step - loss: 0.0914 - accuracy: 0.9711 - val_loss: 0.1054 - val_accuracy: 0.9595\n",
            "\n",
            "Epoch 00003: val_loss improved from 0.11238 to 0.10539, saving model to CNNC2.weights.best.hdf5\n",
            "Epoch 4/100\n",
            "98/98 [==============================] - 1s 5ms/step - loss: 0.0821 - accuracy: 0.9759 - val_loss: 0.0914 - val_accuracy: 0.9595\n",
            "\n",
            "Epoch 00004: val_loss improved from 0.10539 to 0.09140, saving model to CNNC2.weights.best.hdf5\n",
            "Epoch 5/100\n",
            "98/98 [==============================] - 1s 6ms/step - loss: 0.0660 - accuracy: 0.9823 - val_loss: 0.5475 - val_accuracy: 0.8786\n",
            "\n",
            "Epoch 00005: val_loss did not improve from 0.09140\n",
            "Epoch 6/100\n",
            "98/98 [==============================] - 1s 5ms/step - loss: 0.0509 - accuracy: 0.9865 - val_loss: 0.0712 - val_accuracy: 0.9798\n",
            "\n",
            "Epoch 00006: val_loss improved from 0.09140 to 0.07124, saving model to CNNC2.weights.best.hdf5\n",
            "Epoch 7/100\n",
            "98/98 [==============================] - 1s 5ms/step - loss: 0.0395 - accuracy: 0.9913 - val_loss: 0.1874 - val_accuracy: 0.9624\n",
            "\n",
            "Epoch 00007: val_loss did not improve from 0.07124\n",
            "Epoch 8/100\n",
            "98/98 [==============================] - 1s 6ms/step - loss: 0.0254 - accuracy: 0.9929 - val_loss: 0.0771 - val_accuracy: 0.9855\n",
            "\n",
            "Epoch 00008: val_loss did not improve from 0.07124\n",
            "Epoch 9/100\n",
            "98/98 [==============================] - 1s 6ms/step - loss: 0.0263 - accuracy: 0.9936 - val_loss: 0.0597 - val_accuracy: 0.9769\n",
            "\n",
            "Epoch 00009: val_loss improved from 0.07124 to 0.05966, saving model to CNNC2.weights.best.hdf5\n",
            "Epoch 10/100\n",
            "98/98 [==============================] - 0s 5ms/step - loss: 0.0173 - accuracy: 0.9945 - val_loss: 0.0959 - val_accuracy: 0.9827\n",
            "\n",
            "Epoch 00010: val_loss did not improve from 0.05966\n",
            "Epoch 11/100\n",
            "98/98 [==============================] - 1s 6ms/step - loss: 0.0173 - accuracy: 0.9961 - val_loss: 0.0963 - val_accuracy: 0.9827\n",
            "\n",
            "Epoch 00011: val_loss did not improve from 0.05966\n",
            "Epoch 12/100\n",
            "98/98 [==============================] - 0s 5ms/step - loss: 0.0252 - accuracy: 0.9952 - val_loss: 0.1010 - val_accuracy: 0.9798\n",
            "\n",
            "Epoch 00012: val_loss did not improve from 0.05966\n",
            "Epoch 13/100\n",
            "98/98 [==============================] - 0s 5ms/step - loss: 0.0134 - accuracy: 0.9978 - val_loss: 0.1993 - val_accuracy: 0.9711\n",
            "\n",
            "Epoch 00013: val_loss did not improve from 0.05966\n",
            "Epoch 14/100\n",
            "98/98 [==============================] - 1s 6ms/step - loss: 0.0160 - accuracy: 0.9958 - val_loss: 0.0435 - val_accuracy: 0.9884\n",
            "\n",
            "Epoch 00014: val_loss improved from 0.05966 to 0.04353, saving model to CNNC2.weights.best.hdf5\n",
            "Epoch 15/100\n",
            "98/98 [==============================] - 1s 6ms/step - loss: 0.0155 - accuracy: 0.9971 - val_loss: 0.0639 - val_accuracy: 0.9855\n",
            "\n",
            "Epoch 00015: val_loss did not improve from 0.04353\n",
            "Epoch 16/100\n",
            "98/98 [==============================] - 1s 5ms/step - loss: 0.0053 - accuracy: 0.9978 - val_loss: 0.1574 - val_accuracy: 0.9740\n",
            "\n",
            "Epoch 00016: val_loss did not improve from 0.04353\n",
            "Epoch 17/100\n",
            "98/98 [==============================] - 1s 5ms/step - loss: 0.0123 - accuracy: 0.9965 - val_loss: 0.1515 - val_accuracy: 0.9798\n",
            "\n",
            "Epoch 00017: val_loss did not improve from 0.04353\n",
            "Epoch 18/100\n",
            "98/98 [==============================] - 1s 5ms/step - loss: 0.0073 - accuracy: 0.9984 - val_loss: 0.1476 - val_accuracy: 0.9769\n",
            "\n",
            "Epoch 00018: val_loss did not improve from 0.04353\n",
            "Epoch 19/100\n",
            "98/98 [==============================] - 1s 5ms/step - loss: 0.0029 - accuracy: 0.9994 - val_loss: 0.1786 - val_accuracy: 0.9769\n",
            "\n",
            "Epoch 00019: val_loss did not improve from 0.04353\n",
            "Epoch 20/100\n",
            "98/98 [==============================] - 1s 5ms/step - loss: 0.0160 - accuracy: 0.9974 - val_loss: 0.1183 - val_accuracy: 0.9798\n",
            "\n",
            "Epoch 00020: val_loss did not improve from 0.04353\n",
            "Epoch 21/100\n",
            "98/98 [==============================] - 1s 5ms/step - loss: 0.0070 - accuracy: 0.9974 - val_loss: 0.0512 - val_accuracy: 0.9855\n",
            "\n",
            "Epoch 00021: val_loss did not improve from 0.04353\n",
            "Epoch 22/100\n",
            "98/98 [==============================] - 1s 5ms/step - loss: 0.0099 - accuracy: 0.9971 - val_loss: 0.0395 - val_accuracy: 0.9855\n",
            "\n",
            "Epoch 00022: val_loss improved from 0.04353 to 0.03949, saving model to CNNC2.weights.best.hdf5\n",
            "Epoch 23/100\n",
            "98/98 [==============================] - 1s 5ms/step - loss: 0.0062 - accuracy: 0.9990 - val_loss: 0.1780 - val_accuracy: 0.9769\n",
            "\n",
            "Epoch 00023: val_loss did not improve from 0.03949\n",
            "Epoch 24/100\n",
            "98/98 [==============================] - 1s 5ms/step - loss: 0.0112 - accuracy: 0.9968 - val_loss: 0.0919 - val_accuracy: 0.9827\n",
            "\n",
            "Epoch 00024: val_loss did not improve from 0.03949\n",
            "Epoch 25/100\n",
            "98/98 [==============================] - 1s 5ms/step - loss: 0.0028 - accuracy: 0.9997 - val_loss: 0.0388 - val_accuracy: 0.9913\n",
            "\n",
            "Epoch 00025: val_loss improved from 0.03949 to 0.03879, saving model to CNNC2.weights.best.hdf5\n",
            "Epoch 26/100\n",
            "98/98 [==============================] - 1s 5ms/step - loss: 0.0039 - accuracy: 0.9987 - val_loss: 0.0984 - val_accuracy: 0.9855\n",
            "\n",
            "Epoch 00026: val_loss did not improve from 0.03879\n",
            "Epoch 27/100\n",
            "98/98 [==============================] - 0s 5ms/step - loss: 0.0168 - accuracy: 0.9974 - val_loss: 0.0748 - val_accuracy: 0.9798\n",
            "\n",
            "Epoch 00027: val_loss did not improve from 0.03879\n",
            "Epoch 28/100\n",
            "98/98 [==============================] - 1s 5ms/step - loss: 0.0030 - accuracy: 0.9990 - val_loss: 0.0859 - val_accuracy: 0.9827\n",
            "\n",
            "Epoch 00028: val_loss did not improve from 0.03879\n",
            "Epoch 29/100\n",
            "98/98 [==============================] - 1s 5ms/step - loss: 0.0022 - accuracy: 0.9990 - val_loss: 0.1540 - val_accuracy: 0.9827\n",
            "\n",
            "Epoch 00029: val_loss did not improve from 0.03879\n",
            "Epoch 30/100\n",
            "98/98 [==============================] - 1s 5ms/step - loss: 0.0031 - accuracy: 0.9990 - val_loss: 0.1628 - val_accuracy: 0.9827\n",
            "\n",
            "Epoch 00030: val_loss did not improve from 0.03879\n",
            "Epoch 31/100\n",
            "98/98 [==============================] - 1s 5ms/step - loss: 0.0068 - accuracy: 0.9990 - val_loss: 0.1246 - val_accuracy: 0.9913\n",
            "\n",
            "Epoch 00031: val_loss did not improve from 0.03879\n",
            "Epoch 32/100\n",
            "98/98 [==============================] - 1s 5ms/step - loss: 0.0079 - accuracy: 0.9987 - val_loss: 0.1672 - val_accuracy: 0.9884\n",
            "\n",
            "Epoch 00032: val_loss did not improve from 0.03879\n",
            "Epoch 33/100\n",
            "98/98 [==============================] - 1s 5ms/step - loss: 7.5229e-04 - accuracy: 0.9997 - val_loss: 0.2331 - val_accuracy: 0.9884\n",
            "\n",
            "Epoch 00033: val_loss did not improve from 0.03879\n",
            "Epoch 34/100\n",
            "98/98 [==============================] - 1s 5ms/step - loss: 0.0167 - accuracy: 0.9984 - val_loss: 0.2368 - val_accuracy: 0.9798\n",
            "\n",
            "Epoch 00034: val_loss did not improve from 0.03879\n",
            "Epoch 35/100\n",
            "98/98 [==============================] - 1s 5ms/step - loss: 0.0187 - accuracy: 0.9984 - val_loss: 0.0069 - val_accuracy: 0.9971\n",
            "\n",
            "Epoch 00035: val_loss improved from 0.03879 to 0.00693, saving model to CNNC2.weights.best.hdf5\n",
            "Epoch 36/100\n",
            "98/98 [==============================] - 1s 5ms/step - loss: 0.0037 - accuracy: 0.9990 - val_loss: 0.1149 - val_accuracy: 0.9913\n",
            "\n",
            "Epoch 00036: val_loss did not improve from 0.00693\n",
            "Epoch 37/100\n",
            "98/98 [==============================] - 1s 6ms/step - loss: 4.3666e-04 - accuracy: 1.0000 - val_loss: 0.1377 - val_accuracy: 0.9855\n",
            "\n",
            "Epoch 00037: val_loss did not improve from 0.00693\n",
            "Epoch 38/100\n",
            "98/98 [==============================] - 1s 5ms/step - loss: 3.5119e-04 - accuracy: 1.0000 - val_loss: 0.2120 - val_accuracy: 0.9827\n",
            "\n",
            "Epoch 00038: val_loss did not improve from 0.00693\n",
            "Epoch 39/100\n",
            "98/98 [==============================] - 1s 5ms/step - loss: 0.0135 - accuracy: 0.9974 - val_loss: 0.1574 - val_accuracy: 0.9855\n",
            "\n",
            "Epoch 00039: val_loss did not improve from 0.00693\n",
            "Epoch 40/100\n",
            "98/98 [==============================] - 1s 5ms/step - loss: 0.0139 - accuracy: 0.9987 - val_loss: 0.1451 - val_accuracy: 0.9855\n",
            "\n",
            "Epoch 00040: val_loss did not improve from 0.00693\n",
            "Epoch 41/100\n",
            "98/98 [==============================] - 1s 5ms/step - loss: 0.0022 - accuracy: 0.9997 - val_loss: 0.1275 - val_accuracy: 0.9884\n",
            "\n",
            "Epoch 00041: val_loss did not improve from 0.00693\n",
            "Epoch 42/100\n",
            "98/98 [==============================] - 1s 5ms/step - loss: 0.0070 - accuracy: 0.9990 - val_loss: 0.1012 - val_accuracy: 0.9942\n",
            "\n",
            "Epoch 00042: val_loss did not improve from 0.00693\n",
            "Epoch 43/100\n",
            "98/98 [==============================] - 1s 5ms/step - loss: 1.5674e-04 - accuracy: 1.0000 - val_loss: 0.2837 - val_accuracy: 0.9798\n",
            "\n",
            "Epoch 00043: val_loss did not improve from 0.00693\n",
            "Epoch 44/100\n",
            "98/98 [==============================] - 1s 5ms/step - loss: 0.0075 - accuracy: 0.9994 - val_loss: 0.0646 - val_accuracy: 0.9913\n",
            "\n",
            "Epoch 00044: val_loss did not improve from 0.00693\n",
            "Epoch 45/100\n",
            "98/98 [==============================] - 1s 6ms/step - loss: 0.0100 - accuracy: 0.9990 - val_loss: 0.0751 - val_accuracy: 0.9884\n",
            "\n",
            "Epoch 00045: val_loss did not improve from 0.00693\n",
            "Epoch 46/100\n",
            "98/98 [==============================] - 1s 6ms/step - loss: 0.0112 - accuracy: 0.9984 - val_loss: 0.0905 - val_accuracy: 0.9913\n",
            "\n",
            "Epoch 00046: val_loss did not improve from 0.00693\n",
            "Epoch 47/100\n",
            "98/98 [==============================] - 1s 5ms/step - loss: 0.0115 - accuracy: 0.9990 - val_loss: 0.0748 - val_accuracy: 0.9884\n",
            "\n",
            "Epoch 00047: val_loss did not improve from 0.00693\n",
            "Epoch 48/100\n",
            "98/98 [==============================] - 1s 5ms/step - loss: 0.0042 - accuracy: 0.9994 - val_loss: 0.0652 - val_accuracy: 0.9884\n",
            "\n",
            "Epoch 00048: val_loss did not improve from 0.00693\n",
            "Epoch 49/100\n",
            "98/98 [==============================] - 1s 5ms/step - loss: 0.0031 - accuracy: 0.9997 - val_loss: 0.0930 - val_accuracy: 0.9942\n",
            "\n",
            "Epoch 00049: val_loss did not improve from 0.00693\n",
            "Epoch 50/100\n",
            "98/98 [==============================] - 1s 5ms/step - loss: 4.7228e-04 - accuracy: 0.9997 - val_loss: 0.0784 - val_accuracy: 0.9942\n",
            "\n",
            "Epoch 00050: val_loss did not improve from 0.00693\n",
            "Epoch 51/100\n",
            "98/98 [==============================] - 1s 5ms/step - loss: 0.0041 - accuracy: 0.9990 - val_loss: 0.0996 - val_accuracy: 0.9855\n",
            "\n",
            "Epoch 00051: val_loss did not improve from 0.00693\n",
            "Epoch 52/100\n",
            "98/98 [==============================] - 1s 6ms/step - loss: 2.9132e-04 - accuracy: 1.0000 - val_loss: 0.1132 - val_accuracy: 0.9855\n",
            "\n",
            "Epoch 00052: val_loss did not improve from 0.00693\n",
            "Epoch 53/100\n",
            "98/98 [==============================] - 1s 5ms/step - loss: 0.0084 - accuracy: 0.9984 - val_loss: 0.1485 - val_accuracy: 0.9884\n",
            "\n",
            "Epoch 00053: val_loss did not improve from 0.00693\n",
            "Epoch 54/100\n",
            "98/98 [==============================] - 1s 6ms/step - loss: 0.0112 - accuracy: 0.9994 - val_loss: 0.2137 - val_accuracy: 0.9855\n",
            "\n",
            "Epoch 00054: val_loss did not improve from 0.00693\n",
            "Epoch 55/100\n",
            "98/98 [==============================] - 1s 6ms/step - loss: 2.9079e-04 - accuracy: 1.0000 - val_loss: 0.1951 - val_accuracy: 0.9855\n",
            "\n",
            "Epoch 00055: val_loss did not improve from 0.00693\n",
            "Epoch 56/100\n",
            "98/98 [==============================] - 1s 6ms/step - loss: 4.2153e-04 - accuracy: 1.0000 - val_loss: 0.2879 - val_accuracy: 0.9855\n",
            "\n",
            "Epoch 00056: val_loss did not improve from 0.00693\n",
            "Epoch 57/100\n",
            "98/98 [==============================] - 1s 6ms/step - loss: 0.0109 - accuracy: 0.9990 - val_loss: 0.6503 - val_accuracy: 0.9798\n",
            "\n",
            "Epoch 00057: val_loss did not improve from 0.00693\n",
            "Epoch 58/100\n",
            "98/98 [==============================] - 1s 6ms/step - loss: 0.0102 - accuracy: 0.9997 - val_loss: 0.1401 - val_accuracy: 0.9855\n",
            "\n",
            "Epoch 00058: val_loss did not improve from 0.00693\n",
            "Epoch 59/100\n",
            "98/98 [==============================] - 1s 6ms/step - loss: 0.0120 - accuracy: 0.9987 - val_loss: 0.1816 - val_accuracy: 0.9855\n",
            "\n",
            "Epoch 00059: val_loss did not improve from 0.00693\n",
            "Epoch 60/100\n",
            "98/98 [==============================] - 1s 6ms/step - loss: 0.0068 - accuracy: 0.9994 - val_loss: 0.1307 - val_accuracy: 0.9884\n",
            "\n",
            "Epoch 00060: val_loss did not improve from 0.00693\n",
            "Epoch 61/100\n",
            "98/98 [==============================] - 1s 6ms/step - loss: 0.0087 - accuracy: 0.9990 - val_loss: 0.1566 - val_accuracy: 0.9855\n",
            "\n",
            "Epoch 00061: val_loss did not improve from 0.00693\n",
            "Epoch 62/100\n",
            "98/98 [==============================] - 1s 6ms/step - loss: 0.0020 - accuracy: 0.9997 - val_loss: 0.1789 - val_accuracy: 0.9855\n",
            "\n",
            "Epoch 00062: val_loss did not improve from 0.00693\n",
            "Epoch 63/100\n",
            "98/98 [==============================] - 1s 6ms/step - loss: 0.0033 - accuracy: 0.9987 - val_loss: 0.1510 - val_accuracy: 0.9855\n",
            "\n",
            "Epoch 00063: val_loss did not improve from 0.00693\n",
            "Epoch 64/100\n",
            "98/98 [==============================] - 1s 6ms/step - loss: 7.0828e-07 - accuracy: 1.0000 - val_loss: 0.1541 - val_accuracy: 0.9884\n",
            "\n",
            "Epoch 00064: val_loss did not improve from 0.00693\n",
            "Epoch 65/100\n",
            "98/98 [==============================] - 1s 6ms/step - loss: 0.0138 - accuracy: 0.9990 - val_loss: 0.2358 - val_accuracy: 0.9827\n",
            "\n",
            "Epoch 00065: val_loss did not improve from 0.00693\n",
            "Epoch 66/100\n",
            "98/98 [==============================] - 1s 6ms/step - loss: 2.4290e-05 - accuracy: 1.0000 - val_loss: 0.1195 - val_accuracy: 0.9913\n",
            "\n",
            "Epoch 00066: val_loss did not improve from 0.00693\n",
            "Epoch 67/100\n",
            "98/98 [==============================] - 1s 6ms/step - loss: 0.0045 - accuracy: 0.9997 - val_loss: 0.1002 - val_accuracy: 0.9942\n",
            "\n",
            "Epoch 00067: val_loss did not improve from 0.00693\n",
            "Epoch 68/100\n",
            "98/98 [==============================] - 1s 6ms/step - loss: 2.6962e-04 - accuracy: 1.0000 - val_loss: 0.1583 - val_accuracy: 0.9884\n",
            "\n",
            "Epoch 00068: val_loss did not improve from 0.00693\n",
            "Epoch 69/100\n",
            "98/98 [==============================] - 1s 6ms/step - loss: 0.0204 - accuracy: 0.9984 - val_loss: 0.2266 - val_accuracy: 0.9913\n",
            "\n",
            "Epoch 00069: val_loss did not improve from 0.00693\n",
            "Epoch 70/100\n",
            "98/98 [==============================] - 1s 6ms/step - loss: 0.0022 - accuracy: 0.9997 - val_loss: 0.1345 - val_accuracy: 0.9884\n",
            "\n",
            "Epoch 00070: val_loss did not improve from 0.00693\n",
            "Epoch 71/100\n",
            "98/98 [==============================] - 1s 6ms/step - loss: 0.0100 - accuracy: 0.9990 - val_loss: 0.0999 - val_accuracy: 0.9971\n",
            "\n",
            "Epoch 00071: val_loss did not improve from 0.00693\n",
            "Epoch 72/100\n",
            "98/98 [==============================] - 1s 6ms/step - loss: 0.0015 - accuracy: 0.9994 - val_loss: 0.2597 - val_accuracy: 0.9884\n",
            "\n",
            "Epoch 00072: val_loss did not improve from 0.00693\n",
            "Epoch 73/100\n",
            "98/98 [==============================] - 1s 6ms/step - loss: 0.0099 - accuracy: 0.9994 - val_loss: 0.1378 - val_accuracy: 0.9769\n",
            "\n",
            "Epoch 00073: val_loss did not improve from 0.00693\n",
            "Epoch 74/100\n",
            "98/98 [==============================] - 1s 6ms/step - loss: 1.3124e-04 - accuracy: 1.0000 - val_loss: 0.1562 - val_accuracy: 0.9884\n",
            "\n",
            "Epoch 00074: val_loss did not improve from 0.00693\n",
            "Epoch 75/100\n",
            "98/98 [==============================] - 1s 6ms/step - loss: 0.0082 - accuracy: 0.9984 - val_loss: 0.2785 - val_accuracy: 0.9769\n",
            "\n",
            "Epoch 00075: val_loss did not improve from 0.00693\n",
            "Epoch 76/100\n",
            "98/98 [==============================] - 1s 6ms/step - loss: 0.0186 - accuracy: 0.9987 - val_loss: 0.1083 - val_accuracy: 0.9827\n",
            "\n",
            "Epoch 00076: val_loss did not improve from 0.00693\n",
            "Epoch 77/100\n",
            "98/98 [==============================] - 1s 6ms/step - loss: 6.4857e-04 - accuracy: 0.9997 - val_loss: 0.2251 - val_accuracy: 0.9827\n",
            "\n",
            "Epoch 00077: val_loss did not improve from 0.00693\n",
            "Epoch 78/100\n",
            "98/98 [==============================] - 1s 6ms/step - loss: 3.0524e-04 - accuracy: 1.0000 - val_loss: 0.3390 - val_accuracy: 0.9855\n",
            "\n",
            "Epoch 00078: val_loss did not improve from 0.00693\n",
            "Epoch 79/100\n",
            "98/98 [==============================] - 1s 6ms/step - loss: 0.0118 - accuracy: 0.9994 - val_loss: 0.1279 - val_accuracy: 0.9827\n",
            "\n",
            "Epoch 00079: val_loss did not improve from 0.00693\n",
            "Epoch 80/100\n",
            "98/98 [==============================] - 1s 6ms/step - loss: 0.0047 - accuracy: 0.9994 - val_loss: 0.1700 - val_accuracy: 0.9769\n",
            "\n",
            "Epoch 00080: val_loss did not improve from 0.00693\n",
            "Epoch 81/100\n",
            "98/98 [==============================] - 1s 6ms/step - loss: 1.5513e-04 - accuracy: 1.0000 - val_loss: 0.1660 - val_accuracy: 0.9827\n",
            "\n",
            "Epoch 00081: val_loss did not improve from 0.00693\n",
            "Epoch 82/100\n",
            "98/98 [==============================] - 1s 6ms/step - loss: 2.6836e-04 - accuracy: 1.0000 - val_loss: 0.2116 - val_accuracy: 0.9884\n",
            "\n",
            "Epoch 00082: val_loss did not improve from 0.00693\n",
            "Epoch 83/100\n",
            "98/98 [==============================] - 1s 6ms/step - loss: 0.0045 - accuracy: 0.9997 - val_loss: 0.2973 - val_accuracy: 0.9769\n",
            "\n",
            "Epoch 00083: val_loss did not improve from 0.00693\n",
            "Epoch 84/100\n",
            "98/98 [==============================] - 1s 6ms/step - loss: 2.2197e-04 - accuracy: 1.0000 - val_loss: 0.3138 - val_accuracy: 0.9827\n",
            "\n",
            "Epoch 00084: val_loss did not improve from 0.00693\n",
            "Epoch 85/100\n",
            "98/98 [==============================] - 1s 6ms/step - loss: 0.0087 - accuracy: 0.9994 - val_loss: 0.2683 - val_accuracy: 0.9855\n",
            "\n",
            "Epoch 00085: val_loss did not improve from 0.00693\n",
            "Epoch 86/100\n",
            "98/98 [==============================] - 1s 6ms/step - loss: 2.4201e-04 - accuracy: 1.0000 - val_loss: 0.2426 - val_accuracy: 0.9884\n",
            "\n",
            "Epoch 00086: val_loss did not improve from 0.00693\n",
            "Epoch 87/100\n",
            "98/98 [==============================] - 1s 6ms/step - loss: 1.2477e-04 - accuracy: 1.0000 - val_loss: 0.4919 - val_accuracy: 0.9769\n",
            "\n",
            "Epoch 00087: val_loss did not improve from 0.00693\n",
            "Epoch 88/100\n",
            "98/98 [==============================] - 1s 6ms/step - loss: 3.4738e-04 - accuracy: 1.0000 - val_loss: 0.3780 - val_accuracy: 0.9798\n",
            "\n",
            "Epoch 00088: val_loss did not improve from 0.00693\n",
            "Epoch 89/100\n",
            "98/98 [==============================] - 1s 6ms/step - loss: 0.0051 - accuracy: 0.9997 - val_loss: 0.2717 - val_accuracy: 0.9855\n",
            "\n",
            "Epoch 00089: val_loss did not improve from 0.00693\n",
            "Epoch 90/100\n",
            "98/98 [==============================] - 1s 6ms/step - loss: 1.5618e-04 - accuracy: 1.0000 - val_loss: 0.5780 - val_accuracy: 0.9827\n",
            "\n",
            "Epoch 00090: val_loss did not improve from 0.00693\n",
            "Epoch 91/100\n",
            "98/98 [==============================] - 1s 6ms/step - loss: 1.1799e-04 - accuracy: 1.0000 - val_loss: 0.5782 - val_accuracy: 0.9827\n",
            "\n",
            "Epoch 00091: val_loss did not improve from 0.00693\n",
            "Epoch 92/100\n",
            "98/98 [==============================] - 1s 6ms/step - loss: 0.0127 - accuracy: 0.9994 - val_loss: 0.2860 - val_accuracy: 0.9798\n",
            "\n",
            "Epoch 00092: val_loss did not improve from 0.00693\n",
            "Epoch 93/100\n",
            "98/98 [==============================] - 1s 6ms/step - loss: 0.0121 - accuracy: 0.9994 - val_loss: 0.4925 - val_accuracy: 0.9740\n",
            "\n",
            "Epoch 00093: val_loss did not improve from 0.00693\n",
            "Epoch 94/100\n",
            "98/98 [==============================] - 1s 6ms/step - loss: 2.7581e-04 - accuracy: 1.0000 - val_loss: 0.2433 - val_accuracy: 0.9798\n",
            "\n",
            "Epoch 00094: val_loss did not improve from 0.00693\n",
            "Epoch 95/100\n",
            "98/98 [==============================] - 1s 6ms/step - loss: 0.0129 - accuracy: 0.9997 - val_loss: 0.5063 - val_accuracy: 0.9769\n",
            "\n",
            "Epoch 00095: val_loss did not improve from 0.00693\n",
            "Epoch 96/100\n",
            "98/98 [==============================] - 1s 6ms/step - loss: 7.2939e-04 - accuracy: 0.9997 - val_loss: 0.4879 - val_accuracy: 0.9798\n",
            "\n",
            "Epoch 00096: val_loss did not improve from 0.00693\n",
            "Epoch 97/100\n",
            "98/98 [==============================] - 1s 6ms/step - loss: 3.1890e-04 - accuracy: 1.0000 - val_loss: 0.3678 - val_accuracy: 0.9769\n",
            "\n",
            "Epoch 00097: val_loss did not improve from 0.00693\n",
            "Epoch 98/100\n",
            "98/98 [==============================] - 1s 6ms/step - loss: 0.0046 - accuracy: 0.9990 - val_loss: 0.2332 - val_accuracy: 0.9884\n",
            "\n",
            "Epoch 00098: val_loss did not improve from 0.00693\n",
            "Epoch 99/100\n",
            "98/98 [==============================] - 1s 6ms/step - loss: 2.2361e-04 - accuracy: 1.0000 - val_loss: 0.1588 - val_accuracy: 0.9884\n",
            "\n",
            "Epoch 00099: val_loss did not improve from 0.00693\n",
            "Epoch 100/100\n",
            "98/98 [==============================] - 1s 6ms/step - loss: 1.1083e-04 - accuracy: 1.0000 - val_loss: 0.1970 - val_accuracy: 0.9884\n",
            "\n",
            "Epoch 00100: val_loss did not improve from 0.00693\n",
            "\n",
            " CNN Test accuracy: 0.9896103739738464\n",
            "\n",
            " CNN train accuracy: 1.0\n",
            "\n",
            " CNN validation accuracy: 0.9971098303794861\n"
          ]
        }
      ]
    },
    {
      "cell_type": "code",
      "metadata": {
        "colab": {
          "base_uri": "https://localhost:8080/",
          "height": 295
        },
        "id": "Dn_RcsndOL_h",
        "outputId": "6c55dfac-2dfd-42b7-e6b3-ddd01f77248c"
      },
      "source": [
        "import keras\n",
        "from matplotlib import pyplot as plt\n",
        "#history = model.fit(train_x, train_y,validation_split = 0.1, epochs=50, batch_size=4)\n",
        "plt.plot(hist.history['accuracy'])\n",
        "plt.plot(hist.history['val_accuracy'])\n",
        "plt.title('Model Accuracy')\n",
        "plt.ylabel('Accuracy')\n",
        "plt.xlabel('Epoch')\n",
        "plt.legend(['Training accuracy', 'Validation accuracy'], loc='lower right')\n",
        "plt.show()"
      ],
      "execution_count": null,
      "outputs": [
        {
          "output_type": "display_data",
          "data": {
            "image/png": "[encoded data removed]",
            "text/plain": [
              "<Figure size 432x288 with 1 Axes>"
            ]
          },
          "metadata": {
            "needs_background": "light"
          }
        }
      ]
    },
    {
      "cell_type": "code",
      "metadata": {
        "id": "r7ZNjBmY30u0"
      },
      "source": [
        "def plot_confusion_matrix(cm, classes,\n",
        "                        normalize=False,\n",
        "                        title='Confusion matrix',\n",
        "                        cmap=plt.cm.Blues):\n",
        "    \"\"\"\n",
        "    This function prints and plots the confusion matrix.\n",
        "    Normalization can be applied by setting `normalize=True`.\n",
        "    \"\"\"\n",
        "    plt.imshow(cm, interpolation='nearest', cmap=cmap)\n",
        "    plt.title(title)\n",
        "    plt.colorbar()\n",
        "    tick_marks = np.arange(len(classes))\n",
        "    plt.xticks(tick_marks, classes, rotation=45)\n",
        "    plt.yticks(tick_marks, classes)\n",
        "\n",
        "    if normalize:\n",
        "        cm = cm.astype('float') / cm.sum(axis=1)[:, np.newaxis]\n",
        "        print(\"Normalized confusion matrix\")\n",
        "    else:\n",
        "        print('Confusion matrix, without normalization')\n",
        "\n",
        "    print(cm)\n",
        "\n",
        "    thresh = cm.max() / 2.\n",
        "    for i, j in itertools.product(range(cm.shape[0]), range(cm.shape[1])):\n",
        "        plt.text(j, i, cm[i, j],\n",
        "            horizontalalignment=\"center\",\n",
        "            color=\"white\" if cm[i, j] > thresh else \"black\")\n",
        "\n",
        "    plt.tight_layout()\n",
        "    plt.ylabel('True label')\n",
        "    plt.xlabel('Predicted label')"
      ],
      "execution_count": null,
      "outputs": []
    },
    {
      "cell_type": "code",
      "metadata": {
        "id": "MSlEGlct30mx"
      },
      "source": [
        " y_pred = modelC2.predict(X_test)"
      ],
      "execution_count": null,
      "outputs": []
    },
    {
      "cell_type": "code",
      "metadata": {
        "colab": {
          "base_uri": "https://localhost:8080/"
        },
        "id": "8W7XdvqO30i2",
        "outputId": "88cc5a67-c5bc-488c-82b6-33c77734b193"
      },
      "source": [
        " y_pred.round()"
      ],
      "execution_count": null,
      "outputs": [
        {
          "output_type": "execute_result",
          "data": {
            "text/plain": [
              "array([[1., 0.],\n",
              "       [0., 1.],\n",
              "       [1., 0.],\n",
              "       ...,\n",
              "       [1., 0.],\n",
              "       [1., 0.],\n",
              "       [1., 0.]], dtype=float32)"
            ]
          },
          "metadata": {},
          "execution_count": 20
        }
      ]
    },
    {
      "cell_type": "code",
      "metadata": {
        "colab": {
          "base_uri": "https://localhost:8080/",
          "height": 532
        },
        "id": "CVYaTKtT30Y0",
        "outputId": "6e02b77d-1521-406e-b5b3-8313616fba40"
      },
      "source": [
        "ypreddf = pd.DataFrame(y_pred.round())\n",
        "ytestdf = pd.DataFrame(Y_test)\n",
        "\n",
        "from sklearn.metrics import classification_report, confusion_matrix\n",
        "import itertools\n",
        "\n",
        "print (classification_report(Y_test, y_pred.round()))\n",
        "\n",
        "\n",
        "cm = confusion_matrix(ytestdf[0], ypreddf[0])\n",
        "cm_plot_labels = ['Normal','Spoofed']\n",
        "plot_confusion_matrix(cm=cm, classes=cm_plot_labels, title='Confusion Matrix')"
      ],
      "execution_count": null,
      "outputs": [
        {
          "output_type": "stream",
          "name": "stdout",
          "text": [
            "              precision    recall  f1-score   support\n",
            "\n",
            "           0       0.98      0.98      0.98       603\n",
            "           1       0.95      0.95      0.95       243\n",
            "\n",
            "   micro avg       0.97      0.97      0.97       846\n",
            "   macro avg       0.97      0.97      0.97       846\n",
            "weighted avg       0.97      0.97      0.97       846\n",
            " samples avg       0.97      0.97      0.97       846\n",
            "\n",
            "Confusion matrix, without normalization\n",
            "[[231  12]\n",
            " [ 11 592]]\n"
          ]
        },
        {
          "output_type": "display_data",
          "data": {
            "image/png": "[encoded data removed]",
            "text/plain": [
              "<Figure size 432x288 with 2 Axes>"
            ]
          },
          "metadata": {
            "needs_background": "light"
          }
        }
      ]
    },
    {
      "cell_type": "code",
      "metadata": {
        "id": "ZQBiM2mO4sMI",
        "colab": {
          "base_uri": "https://localhost:8080/"
        },
        "outputId": "6d36967a-6d38-4a35-e7bd-0cff2944af81"
      },
      "source": [
        "from sklearn.metrics import jaccard_score, f1_score, accuracy_score,recall_score, precision_score\n",
        "\n",
        "print(\"Avg F1-score: %.4f\" % f1_score(Y_test, y_pred.round(), average='weighted'))\n",
        "print(\"Jaccard score: %.4f\" % jaccard_score(Y_test, y_pred.round(), average='weighted'))\n",
        "print(\"Recall score: %.4f\" % recall_score(Y_test, y_pred.round(), average='weighted'))\n",
        "print(\"Precision score: %.4f\" % precision_score(Y_test, y_pred.round(), average='weighted'))"
      ],
      "execution_count": null,
      "outputs": [
        {
          "output_type": "stream",
          "name": "stdout",
          "text": [
            "Avg F1-score: 0.9728\n",
            "Jaccard score: 0.9473\n",
            "Recall score: 0.9728\n",
            "Precision score: 0.9728\n"
          ]
        }
      ]
    }
  ]
}