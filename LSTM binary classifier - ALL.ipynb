{
  "nbformat": 4,
  "nbformat_minor": 0,
  "metadata": {
    "kernelspec": {
      "display_name": "Python 3",
      "language": "python",
      "name": "python3"
    },
    "language_info": {
      "codemirror_mode": {
        "name": "ipython",
        "version": 3
      },
      "file_extension": ".py",
      "mimetype": "text/x-python",
      "name": "python",
      "nbconvert_exporter": "python",
      "pygments_lexer": "ipython3",
      "version": "3.7.3"
    },
    "colab": {
      "name": "Copy of PCA   ALL.ipynb",
      "provenance": []
    }
  },
  "cells": [
    {
      "cell_type": "code",
      "metadata": {
        "colab": {
          "base_uri": "https://localhost:8080/"
        },
        "id": "1xmN46pr81WK",
        "outputId": "36dd707c-010f-43af-f822-39d4da191446"
      },
      "source": [
        "from google.colab import drive\n",
        "drive.mount('/content/drive')"
      ],
      "execution_count": null,
      "outputs": [
        {
          "output_type": "stream",
          "text": [
            "Drive already mounted at /content/drive; to attempt to forcibly remount, call drive.mount(\"/content/drive\", force_remount=True).\n"
          ],
          "name": "stdout"
        }
      ]
    },
    {
      "cell_type": "code",
      "metadata": {
        "id": "a4Tj4SZc81ES"
      },
      "source": [
        "data_dir = '/content/drive/My Drive/Colab Notebooks/HEX New folder'"
      ],
      "execution_count": null,
      "outputs": []
    },
    {
      "cell_type": "code",
      "metadata": {
        "id": "iRFkRUILTK-j"
      },
      "source": [
        "import glob\n",
        "import os\n",
        "import numpy as np\n",
        "import pandas as pd\n",
        "import seaborn as sns\n",
        "from scipy import stats\n",
        "\n",
        "import matplotlib.pyplot as plt\n",
        "\n",
        "import statsmodels.api as sm\n",
        "from sklearn.cluster import KMeans\n",
        "from sklearn.preprocessing import MinMaxScaler\n",
        "from sklearn.preprocessing import StandardScaler\n",
        "from sklearn.decomposition import PCA\n",
        "\n",
        "from sklearn.linear_model import LinearRegression\n",
        "from sklearn.model_selection import train_test_split\n",
        "from sklearn.metrics import mean_squared_error, r2_score, mean_absolute_error\n",
        "\n",
        "%matplotlib inline\n",
        "\n",
        "\n",
        "\n",
        "# normalize inputs from 0-255 to 0-1\n",
        "import keras\n",
        "import tensorflow as tf\n",
        "from keras.models import Sequential\n",
        "from keras.layers import Dense\n",
        "from keras.layers import LSTM\n",
        "from keras.layers import Dropout\n",
        "#from keras.utils import to_categorical\n",
        "from tensorflow.keras.utils import to_categorical\n",
        "from sklearn.preprocessing import LabelEncoder\n",
        "\n",
        "\n",
        "\n"
      ],
      "execution_count": null,
      "outputs": []
    },
    {
      "cell_type": "code",
      "metadata": {
        "id": "NgF3e1a4TK-p"
      },
      "source": [
        "import pandas.util.testing as tm"
      ],
      "execution_count": null,
      "outputs": []
    },
    {
      "cell_type": "code",
      "metadata": {
        "id": "JkspeUsXTK-p"
      },
      "source": [
        "def ReshapeY(Y_train,n):\n",
        "    Y = list()\n",
        "    for x in Y_train:\n",
        "        Y.append(find_1(x, n))\n",
        "\n",
        "    Y = np.array(Y)\n",
        "    return Y\n",
        "    print(Y.shape)\n",
        "    \n",
        "    \n",
        "# look for 1 ( spoof) in each   \n",
        "def find_1(x, n):\n",
        "    if 1 in x:\n",
        "        res = 1\n",
        "    else: \n",
        "        res = 0\n",
        "    return res    \n",
        "\n",
        "\n",
        "\n",
        "\n",
        "    \n",
        "def LOAD_data(path ):\n",
        "    filenames = glob.glob(path + \"/*.csv\")\n",
        "\n",
        "    dfs = []\n",
        "    for filename in filenames:\n",
        "        df=pd.read_csv(filename)\n",
        "        if 'le0.csv'== filename[-7:]:\n",
        "            df['attack'] = 0\n",
        "            df = df[190:]\n",
        "\n",
        "        else:\n",
        "            df['attack'] = 1\n",
        "        dfa = df['attack']\n",
        "        df = df[14:]\n",
        "        df = df.iloc[:-180]\n",
        "        df = df.select_dtypes(exclude=['object','bool'])         #remove nan\n",
        "        df = df.loc[:, (df != 0).any(axis=0)]                    #remove zeros\n",
        "        df = df.drop(df.std()[(df.std() == 0)].index, axis=1)   #remove equals\n",
        "        df=((df-df.min())/(df.max()-df.min()))*1\n",
        "\n",
        "        df['attack'] = dfa\n",
        "        dfs.append(df)\n",
        "\n",
        "\n",
        "    # Concatenate all data into one DataFrame\n",
        "    df = pd.concat(dfs, ignore_index=True)\n",
        "        #df.head()\n",
        "        \n",
        "    \n",
        "    # Concatenate all data into one DataFrame\n",
        "    df = pd.concat(dfs, ignore_index=True)\n",
        "    #df.head()\n",
        "\n",
        "    df = df.select_dtypes(exclude=['object','bool'])         #remove nan\n",
        "    df = df.loc[:, (df != 0).any(axis=0)]                    #remove zeros\n",
        "    df = df.drop(df.std()[(df.std() == 0)].index, axis=1)   #remove equals\n",
        "\n",
        "    sf = df[['roll', 'pitch', 'heading', 'rollRate', 'pitchRate', 'yawRate',\n",
        "       'groundSpeed',  'altitudeRelative', \n",
        "       'throttlePct', 'estimatorStatus.horizPosRatio',\n",
        "       'estimatorStatus.vertPosRatio',\n",
        "       'estimatorStatus.horizPosAccuracy','gps.courseOverGround']]\n",
        "    scaled_data = scale(sf)\n",
        "    \n",
        "\n",
        "    pca = PCA(n_components = 9)\n",
        "    pca.fit(scaled_data)\n",
        "    pca_data = pca.transform(scaled_data)\n",
        "\n",
        "    pca_data = pd.DataFrame(pca_data)\n",
        "\n",
        "    df_sf = pd.concat([pca_data, df[['attack']]], axis=1)\n",
        "\n",
        "    sf_t =df_sf\n",
        "\n",
        "    data_dim = sf_t.shape[1] -1\n",
        "    timesteps = 60\n",
        "    num_classes = 2\n",
        "\n",
        "\n",
        "    X = sf_t.drop(['attack'], axis =1).values\n",
        "    Y = sf_t[['attack']].values\n",
        "\n",
        "\n",
        "    ll = sf_t.shape[0] // timesteps\n",
        "    ll\n",
        "\n",
        "    x = np.array(X[0: (timesteps*ll)])\n",
        "    y = np.array(Y[0: (timesteps*ll)])\n",
        "    x.shape\n",
        "\n",
        "    X_t = np.reshape(x,(-1,timesteps,data_dim))\n",
        "    Y_t = np.reshape(y,(-1,timesteps,1))\n",
        "\n",
        "\n",
        "    Y_t = ReshapeY(Y_t,timesteps )\n",
        "    print(X_t.shape)\n",
        "    print(Y_t.shape)\n",
        "\n",
        "    lb_make = LabelEncoder()\n",
        "    Y_t = lb_make.fit_transform(Y_t)\n",
        "    Y_t = tf.keras.utils.to_categorical(Y_t)\n",
        "    X_t = X_t.astype(\"float32\")\n",
        "    Y_t = Y_t.astype(\"float32\")\n",
        "    X_t /= 255\n",
        "    \n",
        "    return (X_t,Y_t)\n",
        "\n",
        "\n",
        "def put_together(combined_array, asd):\n",
        "    combined_array = np.concatenate((combined_array, asd), axis=0)\n",
        "    #combined_array = np.delete(combined_array, 0, axis=0)\n",
        "    return combined_array\n",
        "\n",
        "\n",
        "def Delete_first(combined_array):\n",
        "    combined_array = np.delete(combined_array, 0, axis=0)\n",
        "    return combined_array"
      ],
      "execution_count": null,
      "outputs": []
    },
    {
      "cell_type": "code",
      "metadata": {
        "id": "ldPmdrP-91Ln"
      },
      "source": [
        "#pa = data_dir + '/h480'"
      ],
      "execution_count": null,
      "outputs": []
    },
    {
      "cell_type": "code",
      "metadata": {
        "id": "fHqBgISFTK-r"
      },
      "source": [
        "import os\n",
        " \n",
        "paths = []    \n",
        "# rootdir = r'C:\\Users\\lenovo\\OneDrive - aggies.ncat.edu\\Desktop\\new correct files\\HEX New folder'\n",
        "for file in os.listdir(data_dir):\n",
        "    d = os.path.join(data_dir, file)\n",
        "    if os.path.isdir(d):\n",
        "        paths.append(d)"
      ],
      "execution_count": null,
      "outputs": []
    },
    {
      "cell_type": "code",
      "metadata": {
        "colab": {
          "base_uri": "https://localhost:8080/"
        },
        "id": "MDGEpcegTK-s",
        "outputId": "866112bc-be13-4d5e-d52f-a74b4ffc8873"
      },
      "source": [
        "paths"
      ],
      "execution_count": null,
      "outputs": [
        {
          "output_type": "execute_result",
          "data": {
            "text/plain": [
              "['/content/drive/My Drive/Colab Notebooks/HEX New folder/ST NPLANE New folder',\n",
              " '/content/drive/My Drive/Colab Notebooks/HEX New folder/QUAD New folder',\n",
              " '/content/drive/My Drive/Colab Notebooks/HEX New folder/TAIL VTOL New folder',\n",
              " '/content/drive/My Drive/Colab Notebooks/HEX New folder/h480']"
            ]
          },
          "metadata": {
            "tags": []
          },
          "execution_count": 39
        }
      ]
    },
    {
      "cell_type": "code",
      "metadata": {
        "colab": {
          "base_uri": "https://localhost:8080/"
        },
        "id": "DM3UNez3TK-t",
        "outputId": "2c6f02f3-ae75-49b1-ec8c-907b45ff140f"
      },
      "source": [
        "from sklearn.preprocessing import scale\n",
        "\n",
        "i = 0\n",
        "for path in paths:\n",
        "    (Xa,Ya) = LOAD_data(path)\n",
        "    if  (i == 0):\n",
        "        X_ = Xa  \n",
        "        Y_ = Ya\n",
        "        i = i + 1 \n",
        "    else:\n",
        "        X_ = np.concatenate((X_, Xa), axis=0)\n",
        "        Y_ = np.concatenate((Y_, Ya), axis=0)"
      ],
      "execution_count": null,
      "outputs": [
        {
          "output_type": "stream",
          "text": [
            "(461, 60, 9)\n",
            "(461,)\n"
          ],
          "name": "stdout"
        },
        {
          "output_type": "stream",
          "text": [
            "/usr/local/lib/python3.7/dist-packages/IPython/core/interactiveshell.py:2822: DtypeWarning: Columns (15,16) have mixed types.Specify dtype option on import or set low_memory=False.\n",
            "  if self.run_code(code, result):\n",
            "/usr/local/lib/python3.7/dist-packages/IPython/core/interactiveshell.py:2822: DtypeWarning: Columns (15,16) have mixed types.Specify dtype option on import or set low_memory=False.\n",
            "  if self.run_code(code, result):\n"
          ],
          "name": "stderr"
        },
        {
          "output_type": "stream",
          "text": [
            "(2325, 60, 9)\n",
            "(2325,)\n",
            "(455, 60, 9)\n",
            "(455,)\n",
            "(603, 60, 9)\n",
            "(603,)\n"
          ],
          "name": "stdout"
        }
      ]
    },
    {
      "cell_type": "code",
      "metadata": {
        "id": "i6E4xC5oTK-u"
      },
      "source": [
        ""
      ],
      "execution_count": null,
      "outputs": []
    },
    {
      "cell_type": "code",
      "metadata": {
        "id": "7C13HznRTK-u"
      },
      "source": [
        "X_train,X_test, y_train, y_test = train_test_split(X_, Y_, test_size=0.2, random_state=1)"
      ],
      "execution_count": null,
      "outputs": []
    },
    {
      "cell_type": "code",
      "metadata": {
        "colab": {
          "base_uri": "https://localhost:8080/"
        },
        "id": "6mSh5RzrGx5v",
        "outputId": "7be223db-80d4-4931-970e-afc61da980af"
      },
      "source": [
        "X_train.shape"
      ],
      "execution_count": null,
      "outputs": [
        {
          "output_type": "execute_result",
          "data": {
            "text/plain": [
              "(3075, 60, 9)"
            ]
          },
          "metadata": {
            "tags": []
          },
          "execution_count": 42
        }
      ]
    },
    {
      "cell_type": "code",
      "metadata": {
        "id": "M6EoivOcTK-v"
      },
      "source": [
        "data_dim = X_.shape[2]\n",
        "timesteps = 60\n",
        "num_classes = 2"
      ],
      "execution_count": null,
      "outputs": []
    },
    {
      "cell_type": "code",
      "metadata": {
        "id": "rYkM-oQxTK-w"
      },
      "source": [
        ""
      ],
      "execution_count": null,
      "outputs": []
    },
    {
      "cell_type": "code",
      "metadata": {
        "colab": {
          "base_uri": "https://localhost:8080/"
        },
        "id": "xKk9zN0aTK-w",
        "outputId": "cc965d77-4775-45f6-b14b-4f5e31a8ebb1"
      },
      "source": [
        "model = Sequential()\n",
        "\n",
        "model.add(LSTM(units = X_.shape[2], return_sequences = True, input_shape = (timesteps, data_dim)))\n",
        "model.add(Dropout(0.2))\n",
        "\n",
        "model.add(LSTM(units = 50, return_sequences = True))\n",
        "model.add(Dropout(0.2))\n",
        "\n",
        "model.add(LSTM(units = 30, return_sequences = True))\n",
        "model.add(Dropout(0.2))\n",
        "\n",
        "model.add(LSTM(units = 5))\n",
        "model.add(Dropout(0.2))\n",
        "\n",
        "model.add(Dense(units = 2, activation='softmax'))\n",
        "\n",
        "\n",
        "model.compile(optimizer = 'adam',loss='categorical_crossentropy', metrics=['accuracy'])\n",
        "\n",
        "history = model.fit(X_train, y_train, epochs = 100, batch_size = 32,  validation_data=(X_test, y_test))"
      ],
      "execution_count": null,
      "outputs": [
        {
          "output_type": "stream",
          "text": [
            "Epoch 1/100\n",
            "97/97 [==============================] - 19s 116ms/step - loss: 0.6303 - accuracy: 0.7104 - val_loss: 0.5859 - val_accuracy: 0.7178\n",
            "Epoch 2/100\n",
            "97/97 [==============================] - 9s 95ms/step - loss: 0.5358 - accuracy: 0.7640 - val_loss: 0.4169 - val_accuracy: 0.8427\n",
            "Epoch 3/100\n",
            "97/97 [==============================] - 9s 94ms/step - loss: 0.4061 - accuracy: 0.8456 - val_loss: 0.4103 - val_accuracy: 0.8401\n",
            "Epoch 4/100\n",
            "97/97 [==============================] - 9s 94ms/step - loss: 0.4039 - accuracy: 0.8560 - val_loss: 0.3998 - val_accuracy: 0.8466\n",
            "Epoch 5/100\n",
            "97/97 [==============================] - 9s 94ms/step - loss: 0.4037 - accuracy: 0.8482 - val_loss: 0.4156 - val_accuracy: 0.8388\n",
            "Epoch 6/100\n",
            "97/97 [==============================] - 9s 94ms/step - loss: 0.4661 - accuracy: 0.8072 - val_loss: 0.3943 - val_accuracy: 0.8518\n",
            "Epoch 7/100\n",
            "97/97 [==============================] - 9s 95ms/step - loss: 0.4019 - accuracy: 0.8562 - val_loss: 0.4275 - val_accuracy: 0.8440\n",
            "Epoch 8/100\n",
            "97/97 [==============================] - 9s 95ms/step - loss: 0.4095 - accuracy: 0.8500 - val_loss: 0.4075 - val_accuracy: 0.8479\n",
            "Epoch 9/100\n",
            "97/97 [==============================] - 9s 95ms/step - loss: 0.4057 - accuracy: 0.8517 - val_loss: 0.3816 - val_accuracy: 0.8583\n",
            "Epoch 10/100\n",
            "97/97 [==============================] - 9s 95ms/step - loss: 0.3943 - accuracy: 0.8665 - val_loss: 0.3856 - val_accuracy: 0.8557\n",
            "Epoch 11/100\n",
            "97/97 [==============================] - 9s 94ms/step - loss: 0.4033 - accuracy: 0.8616 - val_loss: 0.4023 - val_accuracy: 0.8492\n",
            "Epoch 12/100\n",
            "97/97 [==============================] - 9s 95ms/step - loss: 0.4074 - accuracy: 0.8515 - val_loss: 0.3859 - val_accuracy: 0.8466\n",
            "Epoch 13/100\n",
            "97/97 [==============================] - 9s 95ms/step - loss: 0.3907 - accuracy: 0.8612 - val_loss: 0.3783 - val_accuracy: 0.8609\n",
            "Epoch 14/100\n",
            "97/97 [==============================] - 9s 96ms/step - loss: 0.3742 - accuracy: 0.8686 - val_loss: 0.4410 - val_accuracy: 0.8270\n",
            "Epoch 15/100\n",
            "97/97 [==============================] - 9s 95ms/step - loss: 0.4533 - accuracy: 0.8164 - val_loss: 0.3833 - val_accuracy: 0.8505\n",
            "Epoch 16/100\n",
            "97/97 [==============================] - 9s 96ms/step - loss: 0.3962 - accuracy: 0.8579 - val_loss: 0.3748 - val_accuracy: 0.8596\n",
            "Epoch 17/100\n",
            "97/97 [==============================] - 9s 96ms/step - loss: 0.3745 - accuracy: 0.8670 - val_loss: 0.3705 - val_accuracy: 0.8609\n",
            "Epoch 18/100\n",
            "97/97 [==============================] - 9s 95ms/step - loss: 0.3707 - accuracy: 0.8689 - val_loss: 0.3620 - val_accuracy: 0.8648\n",
            "Epoch 19/100\n",
            "97/97 [==============================] - 9s 95ms/step - loss: 0.3750 - accuracy: 0.8681 - val_loss: 0.4233 - val_accuracy: 0.8296\n",
            "Epoch 20/100\n",
            "97/97 [==============================] - 9s 96ms/step - loss: 0.3972 - accuracy: 0.8557 - val_loss: 0.3525 - val_accuracy: 0.8726\n",
            "Epoch 21/100\n",
            "97/97 [==============================] - 9s 95ms/step - loss: 0.3735 - accuracy: 0.8721 - val_loss: 0.3780 - val_accuracy: 0.8570\n",
            "Epoch 22/100\n",
            "97/97 [==============================] - 9s 96ms/step - loss: 0.3470 - accuracy: 0.8735 - val_loss: 0.3235 - val_accuracy: 0.8791\n",
            "Epoch 23/100\n",
            "97/97 [==============================] - 9s 96ms/step - loss: 0.3378 - accuracy: 0.8840 - val_loss: 0.3480 - val_accuracy: 0.8505\n",
            "Epoch 24/100\n",
            "97/97 [==============================] - 9s 96ms/step - loss: 0.5150 - accuracy: 0.7799 - val_loss: 0.3828 - val_accuracy: 0.8492\n",
            "Epoch 25/100\n",
            "97/97 [==============================] - 9s 95ms/step - loss: 0.3682 - accuracy: 0.8530 - val_loss: 0.3217 - val_accuracy: 0.8817\n",
            "Epoch 26/100\n",
            "97/97 [==============================] - 9s 96ms/step - loss: 0.3404 - accuracy: 0.8750 - val_loss: 0.2909 - val_accuracy: 0.8895\n",
            "Epoch 27/100\n",
            "97/97 [==============================] - 9s 95ms/step - loss: 0.3128 - accuracy: 0.8776 - val_loss: 0.2670 - val_accuracy: 0.8895\n",
            "Epoch 28/100\n",
            "97/97 [==============================] - 9s 95ms/step - loss: 0.2756 - accuracy: 0.9040 - val_loss: 0.2943 - val_accuracy: 0.8999\n",
            "Epoch 29/100\n",
            "97/97 [==============================] - 9s 96ms/step - loss: 0.4222 - accuracy: 0.8112 - val_loss: 0.3943 - val_accuracy: 0.8479\n",
            "Epoch 30/100\n",
            "97/97 [==============================] - 9s 96ms/step - loss: 0.3625 - accuracy: 0.8598 - val_loss: 0.2877 - val_accuracy: 0.8817\n",
            "Epoch 31/100\n",
            "97/97 [==============================] - 9s 95ms/step - loss: 0.2918 - accuracy: 0.8989 - val_loss: 0.2640 - val_accuracy: 0.9038\n",
            "Epoch 32/100\n",
            "97/97 [==============================] - 9s 96ms/step - loss: 0.3050 - accuracy: 0.8897 - val_loss: 0.2689 - val_accuracy: 0.9038\n",
            "Epoch 33/100\n",
            "97/97 [==============================] - 9s 95ms/step - loss: 0.2749 - accuracy: 0.9101 - val_loss: 0.2676 - val_accuracy: 0.9064\n",
            "Epoch 34/100\n",
            "97/97 [==============================] - 9s 96ms/step - loss: 0.2590 - accuracy: 0.9085 - val_loss: 0.2397 - val_accuracy: 0.9077\n",
            "Epoch 35/100\n",
            "97/97 [==============================] - 9s 96ms/step - loss: 0.2841 - accuracy: 0.8988 - val_loss: 0.2468 - val_accuracy: 0.9025\n",
            "Epoch 36/100\n",
            "97/97 [==============================] - 9s 96ms/step - loss: 0.2460 - accuracy: 0.9069 - val_loss: 0.2174 - val_accuracy: 0.9103\n",
            "Epoch 37/100\n",
            "97/97 [==============================] - 9s 96ms/step - loss: 0.2180 - accuracy: 0.9210 - val_loss: 0.2140 - val_accuracy: 0.9090\n",
            "Epoch 38/100\n",
            "97/97 [==============================] - 9s 95ms/step - loss: 0.2123 - accuracy: 0.9174 - val_loss: 0.2369 - val_accuracy: 0.8869\n",
            "Epoch 39/100\n",
            "97/97 [==============================] - 9s 95ms/step - loss: 0.2897 - accuracy: 0.8934 - val_loss: 0.2546 - val_accuracy: 0.8908\n",
            "Epoch 40/100\n",
            "97/97 [==============================] - 9s 95ms/step - loss: 0.2767 - accuracy: 0.8980 - val_loss: 0.2340 - val_accuracy: 0.8947\n",
            "Epoch 41/100\n",
            "97/97 [==============================] - 9s 96ms/step - loss: 0.2389 - accuracy: 0.9023 - val_loss: 0.6257 - val_accuracy: 0.8479\n",
            "Epoch 42/100\n",
            "97/97 [==============================] - 9s 96ms/step - loss: 0.3547 - accuracy: 0.8779 - val_loss: 0.2447 - val_accuracy: 0.8960\n",
            "Epoch 43/100\n",
            "97/97 [==============================] - 9s 95ms/step - loss: 0.2430 - accuracy: 0.9031 - val_loss: 0.2194 - val_accuracy: 0.8999\n",
            "Epoch 44/100\n",
            "97/97 [==============================] - 9s 95ms/step - loss: 0.2248 - accuracy: 0.9031 - val_loss: 0.2949 - val_accuracy: 0.8609\n",
            "Epoch 45/100\n",
            "97/97 [==============================] - 9s 95ms/step - loss: 0.2710 - accuracy: 0.8876 - val_loss: 0.2051 - val_accuracy: 0.9051\n",
            "Epoch 46/100\n",
            "97/97 [==============================] - 9s 95ms/step - loss: 0.2184 - accuracy: 0.9051 - val_loss: 0.2201 - val_accuracy: 0.9012\n",
            "Epoch 47/100\n",
            "97/97 [==============================] - 9s 95ms/step - loss: 0.1955 - accuracy: 0.9148 - val_loss: 0.1805 - val_accuracy: 0.9090\n",
            "Epoch 48/100\n",
            "97/97 [==============================] - 9s 95ms/step - loss: 0.1987 - accuracy: 0.9117 - val_loss: 0.1885 - val_accuracy: 0.9116\n",
            "Epoch 49/100\n",
            "97/97 [==============================] - 9s 95ms/step - loss: 0.2133 - accuracy: 0.8956 - val_loss: 0.1819 - val_accuracy: 0.9090\n",
            "Epoch 50/100\n",
            "97/97 [==============================] - 9s 96ms/step - loss: 0.1978 - accuracy: 0.9081 - val_loss: 0.1918 - val_accuracy: 0.9103\n",
            "Epoch 51/100\n",
            "97/97 [==============================] - 9s 97ms/step - loss: 0.1887 - accuracy: 0.9169 - val_loss: 0.1700 - val_accuracy: 0.9090\n",
            "Epoch 52/100\n",
            "97/97 [==============================] - 9s 95ms/step - loss: 0.1898 - accuracy: 0.9168 - val_loss: 0.1693 - val_accuracy: 0.9142\n",
            "Epoch 53/100\n",
            "97/97 [==============================] - 9s 96ms/step - loss: 0.1789 - accuracy: 0.9177 - val_loss: 0.1784 - val_accuracy: 0.9064\n",
            "Epoch 54/100\n",
            "97/97 [==============================] - 9s 97ms/step - loss: 0.2268 - accuracy: 0.9061 - val_loss: 0.3188 - val_accuracy: 0.9064\n",
            "Epoch 55/100\n",
            "97/97 [==============================] - 9s 97ms/step - loss: 0.2782 - accuracy: 0.9130 - val_loss: 0.2191 - val_accuracy: 0.9285\n",
            "Epoch 56/100\n",
            "97/97 [==============================] - 9s 97ms/step - loss: 0.2319 - accuracy: 0.9177 - val_loss: 0.1982 - val_accuracy: 0.9129\n",
            "Epoch 57/100\n",
            "97/97 [==============================] - 9s 98ms/step - loss: 0.2112 - accuracy: 0.9219 - val_loss: 0.1990 - val_accuracy: 0.9142\n",
            "Epoch 58/100\n",
            "97/97 [==============================] - 9s 98ms/step - loss: 0.2006 - accuracy: 0.9241 - val_loss: 0.1626 - val_accuracy: 0.9259\n",
            "Epoch 59/100\n",
            "97/97 [==============================] - 9s 97ms/step - loss: 0.1688 - accuracy: 0.9316 - val_loss: 0.2530 - val_accuracy: 0.9285\n",
            "Epoch 60/100\n",
            "97/97 [==============================] - 9s 95ms/step - loss: 0.2524 - accuracy: 0.9119 - val_loss: 0.1903 - val_accuracy: 0.9051\n",
            "Epoch 61/100\n",
            "97/97 [==============================] - 9s 96ms/step - loss: 0.1708 - accuracy: 0.9327 - val_loss: 0.1490 - val_accuracy: 0.9324\n",
            "Epoch 62/100\n",
            "97/97 [==============================] - 9s 96ms/step - loss: 0.1531 - accuracy: 0.9350 - val_loss: 0.1504 - val_accuracy: 0.9285\n",
            "Epoch 63/100\n",
            "97/97 [==============================] - 9s 96ms/step - loss: 0.1518 - accuracy: 0.9362 - val_loss: 0.1363 - val_accuracy: 0.9337\n",
            "Epoch 64/100\n",
            "97/97 [==============================] - 9s 98ms/step - loss: 0.1307 - accuracy: 0.9505 - val_loss: 0.1640 - val_accuracy: 0.9103\n",
            "Epoch 65/100\n",
            "97/97 [==============================] - 9s 96ms/step - loss: 0.1573 - accuracy: 0.9321 - val_loss: 0.1722 - val_accuracy: 0.9220\n",
            "Epoch 66/100\n",
            "97/97 [==============================] - 9s 97ms/step - loss: 0.1783 - accuracy: 0.9306 - val_loss: 0.1752 - val_accuracy: 0.9220\n",
            "Epoch 67/100\n",
            "97/97 [==============================] - 9s 98ms/step - loss: 0.1357 - accuracy: 0.9392 - val_loss: 0.1705 - val_accuracy: 0.9428\n",
            "Epoch 68/100\n",
            "97/97 [==============================] - 9s 96ms/step - loss: 0.2007 - accuracy: 0.9422 - val_loss: 0.1634 - val_accuracy: 0.9168\n",
            "Epoch 69/100\n",
            "97/97 [==============================] - 9s 96ms/step - loss: 0.1654 - accuracy: 0.9318 - val_loss: 0.1377 - val_accuracy: 0.9337\n",
            "Epoch 70/100\n",
            "97/97 [==============================] - 9s 96ms/step - loss: 0.1282 - accuracy: 0.9467 - val_loss: 0.1403 - val_accuracy: 0.9272\n",
            "Epoch 71/100\n",
            "97/97 [==============================] - 9s 97ms/step - loss: 0.1323 - accuracy: 0.9427 - val_loss: 0.1476 - val_accuracy: 0.9298\n",
            "Epoch 72/100\n",
            "97/97 [==============================] - 9s 97ms/step - loss: 0.1472 - accuracy: 0.9288 - val_loss: 0.1570 - val_accuracy: 0.9363\n",
            "Epoch 73/100\n",
            "97/97 [==============================] - 9s 97ms/step - loss: 0.1360 - accuracy: 0.9494 - val_loss: 0.2288 - val_accuracy: 0.9051\n",
            "Epoch 74/100\n",
            "97/97 [==============================] - 9s 96ms/step - loss: 0.1786 - accuracy: 0.9312 - val_loss: 0.2291 - val_accuracy: 0.9077\n",
            "Epoch 75/100\n",
            "97/97 [==============================] - 9s 96ms/step - loss: 0.1552 - accuracy: 0.9379 - val_loss: 0.1364 - val_accuracy: 0.9467\n",
            "Epoch 76/100\n",
            "97/97 [==============================] - 9s 96ms/step - loss: 0.1387 - accuracy: 0.9376 - val_loss: 0.1404 - val_accuracy: 0.9259\n",
            "Epoch 77/100\n",
            "97/97 [==============================] - 9s 95ms/step - loss: 0.1268 - accuracy: 0.9513 - val_loss: 0.1764 - val_accuracy: 0.9194\n",
            "Epoch 78/100\n",
            "97/97 [==============================] - 9s 96ms/step - loss: 0.1662 - accuracy: 0.9329 - val_loss: 0.1408 - val_accuracy: 0.9454\n",
            "Epoch 79/100\n",
            "97/97 [==============================] - 9s 96ms/step - loss: 0.1273 - accuracy: 0.9515 - val_loss: 0.1260 - val_accuracy: 0.9506\n",
            "Epoch 80/100\n",
            "97/97 [==============================] - 9s 96ms/step - loss: 0.1075 - accuracy: 0.9629 - val_loss: 0.1318 - val_accuracy: 0.9623\n",
            "Epoch 81/100\n",
            "97/97 [==============================] - 9s 97ms/step - loss: 0.1131 - accuracy: 0.9598 - val_loss: 0.1076 - val_accuracy: 0.9571\n",
            "Epoch 82/100\n",
            "97/97 [==============================] - 9s 96ms/step - loss: 0.0994 - accuracy: 0.9730 - val_loss: 0.1040 - val_accuracy: 0.9597\n",
            "Epoch 83/100\n",
            "97/97 [==============================] - 9s 96ms/step - loss: 0.0949 - accuracy: 0.9682 - val_loss: 0.1129 - val_accuracy: 0.9532\n",
            "Epoch 84/100\n",
            "97/97 [==============================] - 9s 97ms/step - loss: 0.0930 - accuracy: 0.9695 - val_loss: 0.1005 - val_accuracy: 0.9597\n",
            "Epoch 85/100\n",
            "97/97 [==============================] - 9s 97ms/step - loss: 0.0850 - accuracy: 0.9770 - val_loss: 0.0930 - val_accuracy: 0.9636\n",
            "Epoch 86/100\n",
            "97/97 [==============================] - 9s 97ms/step - loss: 0.0958 - accuracy: 0.9680 - val_loss: 0.1193 - val_accuracy: 0.9623\n",
            "Epoch 87/100\n",
            "97/97 [==============================] - 9s 98ms/step - loss: 0.1134 - accuracy: 0.9646 - val_loss: 0.0832 - val_accuracy: 0.9714\n",
            "Epoch 88/100\n",
            "97/97 [==============================] - 9s 97ms/step - loss: 0.1205 - accuracy: 0.9548 - val_loss: 0.0848 - val_accuracy: 0.9779\n",
            "Epoch 89/100\n",
            "97/97 [==============================] - 9s 96ms/step - loss: 0.0862 - accuracy: 0.9727 - val_loss: 0.0846 - val_accuracy: 0.9727\n",
            "Epoch 90/100\n",
            "97/97 [==============================] - 9s 97ms/step - loss: 0.2018 - accuracy: 0.9412 - val_loss: 0.1137 - val_accuracy: 0.9480\n",
            "Epoch 91/100\n",
            "97/97 [==============================] - 9s 95ms/step - loss: 0.0966 - accuracy: 0.9581 - val_loss: 0.1142 - val_accuracy: 0.9597\n",
            "Epoch 92/100\n",
            "97/97 [==============================] - 9s 98ms/step - loss: 0.1206 - accuracy: 0.9520 - val_loss: 0.0877 - val_accuracy: 0.9662\n",
            "Epoch 93/100\n",
            "97/97 [==============================] - 9s 96ms/step - loss: 0.1987 - accuracy: 0.9418 - val_loss: 0.0906 - val_accuracy: 0.9662\n",
            "Epoch 94/100\n",
            "97/97 [==============================] - 9s 97ms/step - loss: 0.0828 - accuracy: 0.9725 - val_loss: 0.0755 - val_accuracy: 0.9779\n",
            "Epoch 95/100\n",
            "97/97 [==============================] - 9s 97ms/step - loss: 0.0729 - accuracy: 0.9793 - val_loss: 0.0812 - val_accuracy: 0.9727\n",
            "Epoch 96/100\n",
            "97/97 [==============================] - 9s 96ms/step - loss: 0.0697 - accuracy: 0.9823 - val_loss: 0.0907 - val_accuracy: 0.9701\n",
            "Epoch 97/100\n",
            "97/97 [==============================] - 9s 97ms/step - loss: 0.0874 - accuracy: 0.9750 - val_loss: 0.0669 - val_accuracy: 0.9779\n",
            "Epoch 98/100\n",
            "97/97 [==============================] - 9s 97ms/step - loss: 0.0561 - accuracy: 0.9835 - val_loss: 0.0671 - val_accuracy: 0.9805\n",
            "Epoch 99/100\n",
            "97/97 [==============================] - 9s 95ms/step - loss: 0.0617 - accuracy: 0.9776 - val_loss: 0.0708 - val_accuracy: 0.9740\n",
            "Epoch 100/100\n",
            "97/97 [==============================] - 9s 96ms/step - loss: 0.0562 - accuracy: 0.9814 - val_loss: 0.0675 - val_accuracy: 0.9779\n"
          ],
          "name": "stdout"
        }
      ]
    },
    {
      "cell_type": "code",
      "metadata": {
        "id": "kSr7n4eITK-y"
      },
      "source": [
        ""
      ],
      "execution_count": null,
      "outputs": []
    },
    {
      "cell_type": "code",
      "metadata": {
        "id": "CL7YJT9yTK-y"
      },
      "source": [
        ""
      ],
      "execution_count": null,
      "outputs": []
    },
    {
      "cell_type": "code",
      "metadata": {
        "id": "yCmvKngaTK-z"
      },
      "source": [
        ""
      ],
      "execution_count": null,
      "outputs": []
    },
    {
      "cell_type": "code",
      "metadata": {
        "id": "IBHkVGI7TK-z"
      },
      "source": [
        ""
      ],
      "execution_count": null,
      "outputs": []
    },
    {
      "cell_type": "code",
      "metadata": {
        "id": "M-g6s_RXTK-z"
      },
      "source": [
        ""
      ],
      "execution_count": null,
      "outputs": []
    },
    {
      "cell_type": "code",
      "metadata": {
        "colab": {
          "base_uri": "https://localhost:8080/",
          "height": 295
        },
        "id": "lIfnw-FZTK-z",
        "outputId": "d28f6f40-5a56-4390-c63b-891bb214d0d8"
      },
      "source": [
        "import keras\n",
        "from matplotlib import pyplot as plt\n",
        "#history = model.fit(train_x, train_y,validation_split = 0.1, epochs=50, batch_size=4)\n",
        "plt.plot(history.history['accuracy'])\n",
        "plt.plot(history.history['val_accuracy'])\n",
        "plt.title('Model Accuracy')\n",
        "plt.ylabel('Accuracy')\n",
        "plt.xlabel('Epoch')\n",
        "plt.legend(['Training accuracy', 'Validation accuracy'], loc='lower right')\n",
        "plt.show()"
      ],
      "execution_count": null,
      "outputs": [
        {
          "output_type": "display_data",
          "data": {
            "image/png": "[encoded data removed]",
            "text/plain": [
              "<Figure size 432x288 with 1 Axes>"
            ]
          },
          "metadata": {
            "tags": [],
            "needs_background": "light"
          }
        }
      ]
    },
    {
      "cell_type": "code",
      "metadata": {
        "colab": {
          "base_uri": "https://localhost:8080/",
          "height": 295
        },
        "id": "v_L0YaxWTK-0",
        "outputId": "06fbc3fa-5946-4282-a22a-ee07b8c8812e"
      },
      "source": [
        "plt.plot(history.history['loss'])\n",
        "plt.plot(history.history['val_loss'])\n",
        "plt.title('Model Loss')\n",
        "plt.ylabel('Loss')\n",
        "plt.xlabel('Epoch')\n",
        "plt.legend(['Training loss', 'Validation loss'], loc='upper right')\n",
        "plt.show()"
      ],
      "execution_count": null,
      "outputs": [
        {
          "output_type": "display_data",
          "data": {
            "image/png": "[encoded data removed]",
            "text/plain": [
              "<Figure size 432x288 with 1 Axes>"
            ]
          },
          "metadata": {
            "tags": [],
            "needs_background": "light"
          }
        }
      ]
    },
    {
      "cell_type": "code",
      "metadata": {
        "id": "Pey8Gqc0TK-0"
      },
      "source": [
        "def plot_confusion_matrix(cm, classes,\n",
        "                        normalize=False,\n",
        "                        title='Confusion matrix',\n",
        "                        cmap=plt.cm.Blues):\n",
        "    \"\"\"\n",
        "    This function prints and plots the confusion matrix.\n",
        "    Normalization can be applied by setting `normalize=True`.\n",
        "    \"\"\"\n",
        "    plt.imshow(cm, interpolation='nearest', cmap=cmap)\n",
        "    plt.title(title)\n",
        "    plt.colorbar()\n",
        "    tick_marks = np.arange(len(classes))\n",
        "    plt.xticks(tick_marks, classes, rotation=45)\n",
        "    plt.yticks(tick_marks, classes)\n",
        "\n",
        "    if normalize:\n",
        "        cm = cm.astype('float') / cm.sum(axis=1)[:, np.newaxis]\n",
        "        print(\"Normalized confusion matrix\")\n",
        "    else:\n",
        "        print('Confusion matrix, without normalization')\n",
        "\n",
        "    print(cm)\n",
        "\n",
        "    thresh = cm.max() / 2.\n",
        "    for i, j in itertools.product(range(cm.shape[0]), range(cm.shape[1])):\n",
        "        plt.text(j, i, cm[i, j],\n",
        "            horizontalalignment=\"center\",\n",
        "            color=\"white\" if cm[i, j] > thresh else \"black\")\n",
        "\n",
        "    plt.tight_layout()\n",
        "    plt.ylabel('True label')\n",
        "    plt.xlabel('Predicted label')"
      ],
      "execution_count": null,
      "outputs": []
    },
    {
      "cell_type": "code",
      "metadata": {
        "id": "gP9RioowTK-0"
      },
      "source": [
        " y_pred = model.predict(X_test)"
      ],
      "execution_count": null,
      "outputs": []
    },
    {
      "cell_type": "code",
      "metadata": {
        "colab": {
          "base_uri": "https://localhost:8080/"
        },
        "id": "D-LwwLWKTK-0",
        "outputId": "96ee8c66-a698-49ff-85f6-aa1f3449b2d7"
      },
      "source": [
        " y_pred.round()"
      ],
      "execution_count": null,
      "outputs": [
        {
          "output_type": "execute_result",
          "data": {
            "text/plain": [
              "array([[0., 1.],\n",
              "       [1., 0.],\n",
              "       [1., 0.],\n",
              "       ...,\n",
              "       [0., 1.],\n",
              "       [0., 1.],\n",
              "       [0., 1.]], dtype=float32)"
            ]
          },
          "metadata": {
            "tags": []
          },
          "execution_count": 49
        }
      ]
    },
    {
      "cell_type": "code",
      "metadata": {
        "colab": {
          "base_uri": "https://localhost:8080/"
        },
        "id": "kQMCUJYvTK-1",
        "outputId": "5597972b-4c56-4647-d426-d8beecfe612a"
      },
      "source": [
        "ypreddf = pd.DataFrame(y_pred.round())\n",
        "ytestdf = pd.DataFrame(y_test)\n",
        "\n",
        "from sklearn.metrics import classification_report, confusion_matrix\n",
        "import itertools\n",
        "\n",
        "print (classification_report(y_test, y_pred.round()))\n",
        "\n",
        "\n",
        "cm = confusion_matrix(ytestdf[0], ypreddf[0])\n",
        "cm_plot_labels = ['Normal','Spoofed']\n",
        "plot_confusion_matrix(cm=cm, classes=cm_plot_labels, title='Confusion Matrix')"
      ],
      "execution_count": null,
      "outputs": [
        {
          "output_type": "stream",
          "text": [
            "              precision    recall  f1-score   support\n",
            "\n",
            "           0       0.93      0.99      0.96       217\n",
            "           1       1.00      0.97      0.98       552\n",
            "\n",
            "   micro avg       0.98      0.98      0.98       769\n",
            "   macro avg       0.97      0.98      0.97       769\n",
            "weighted avg       0.98      0.98      0.98       769\n",
            " samples avg       0.98      0.98      0.98       769\n",
            "\n",
            "Confusion matrix, without normalization\n",
            "[[537  15]\n",
            " [  2 215]]\n"
          ],
          "name": "stdout"
        },
        {
          "output_type": "display_data",
          "data": {
            "image/png": "[encoded data removed]",
            "text/plain": [
              "<Figure size 432x288 with 2 Axes>"
            ]
          },
          "metadata": {
            "tags": [],
            "needs_background": "light"
          }
        }
      ]
    },
    {
      "cell_type": "code",
      "metadata": {
        "colab": {
          "base_uri": "https://localhost:8080/"
        },
        "id": "ntajhnRmTK-1",
        "outputId": "0d080fd4-200a-466a-fbd2-3916a4fb9b68"
      },
      "source": [
        "from sklearn.metrics import jaccard_score, f1_score, accuracy_score,recall_score, precision_score\n",
        "\n",
        "print(\"Avg F1-score: %.4f\" % f1_score(y_test, y_pred.round(), average='weighted'))\n",
        "print(\"Jaccard score: %.4f\" % jaccard_score(y_test, y_pred.round(), average='weighted'))\n",
        "print(\"Recall score: %.4f\" % recall_score(y_test, y_pred.round(), average='weighted'))\n",
        "print(\"Precision score: %.4f\" % precision_score(y_test, y_pred.round(), average='weighted'))"
      ],
      "execution_count": null,
      "outputs": [
        {
          "output_type": "stream",
          "text": [
            "Avg F1-score: 0.9781\n",
            "Jaccard score: 0.9573\n",
            "Recall score: 0.9779\n",
            "Precision score: 0.9789\n"
          ],
          "name": "stdout"
        }
      ]
    },
    {
      "cell_type": "code",
      "metadata": {
        "id": "zrhyLarrTK-1",
        "colab": {
          "base_uri": "https://localhost:8080/"
        },
        "outputId": "0ccd4111-0034-48cf-a94c-6c38e49a8211"
      },
      "source": [
        "from sklearn.metrics import classification_report, confusion_matrix, accuracy_score\n",
        "print(\"Avg F1-score: %.4f\" % accuracy_score(y_test, y_pred.round()))"
      ],
      "execution_count": null,
      "outputs": [
        {
          "output_type": "stream",
          "text": [
            "Avg F1-score: 0.9779\n"
          ],
          "name": "stdout"
        }
      ]
    },
    {
      "cell_type": "code",
      "metadata": {
        "id": "b4jy8m11TK-1"
      },
      "source": [
        ""
      ],
      "execution_count": null,
      "outputs": []
    },
    {
      "cell_type": "markdown",
      "metadata": {
        "id": "VeDwm9pOTK-2"
      },
      "source": [
        "###  epsilon < 10 meters"
      ]
    },
    {
      "cell_type": "code",
      "metadata": {
        "id": "Zrm49NhSTK-4"
      },
      "source": [
        ""
      ],
      "execution_count": null,
      "outputs": []
    }
  ]
}